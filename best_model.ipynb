{
 "cells": [
  {
   "cell_type": "code",
   "execution_count": 1,
   "id": "418bcb0e",
   "metadata": {},
   "outputs": [],
   "source": [
    "import pandas as pd\n",
    "import numpy as np\n",
    "import seaborn as sns\n",
    "import matplotlib.pyplot as plt\n",
    "\n",
    "from sklearn.model_selection import train_test_split, GridSearchCV\n",
    "from sklearn.feature_extraction import DictVectorizer\n",
    "from sklearn.linear_model import LogisticRegression\n",
    "from sklearn.ensemble import RandomForestClassifier\n",
    "from sklearn.metrics import roc_auc_score\n",
    "import pickle"
   ]
  },
  {
   "cell_type": "code",
   "execution_count": 2,
   "id": "60147fd0",
   "metadata": {},
   "outputs": [],
   "source": [
    "data = pd.read_csv('feat_data.csv')"
   ]
  },
  {
   "cell_type": "code",
   "execution_count": 3,
   "id": "2eb8ef44",
   "metadata": {},
   "outputs": [
    {
     "data": {
      "text/html": [
       "<div>\n",
       "<style scoped>\n",
       "    .dataframe tbody tr th:only-of-type {\n",
       "        vertical-align: middle;\n",
       "    }\n",
       "\n",
       "    .dataframe tbody tr th {\n",
       "        vertical-align: top;\n",
       "    }\n",
       "\n",
       "    .dataframe thead th {\n",
       "        text-align: right;\n",
       "    }\n",
       "</style>\n",
       "<table border=\"1\" class=\"dataframe\">\n",
       "  <thead>\n",
       "    <tr style=\"text-align: right;\">\n",
       "      <th></th>\n",
       "      <th>disrict</th>\n",
       "      <th>client_catg</th>\n",
       "      <th>region</th>\n",
       "      <th>target</th>\n",
       "      <th>1transactions_count</th>\n",
       "      <th>consommation_level_1_mean</th>\n",
       "      <th>consommation_level_2_mean</th>\n",
       "      <th>consommation_level_3_mean</th>\n",
       "      <th>consommation_level_4_mean</th>\n",
       "      <th>year</th>\n",
       "      <th>month</th>\n",
       "      <th>day</th>\n",
       "      <th>month_name</th>\n",
       "    </tr>\n",
       "  </thead>\n",
       "  <tbody>\n",
       "    <tr>\n",
       "      <th>0</th>\n",
       "      <td>60</td>\n",
       "      <td>11</td>\n",
       "      <td>101</td>\n",
       "      <td>0.0</td>\n",
       "      <td>35</td>\n",
       "      <td>352.400000</td>\n",
       "      <td>10.571429</td>\n",
       "      <td>0.000000</td>\n",
       "      <td>0.000000</td>\n",
       "      <td>1994</td>\n",
       "      <td>12</td>\n",
       "      <td>31</td>\n",
       "      <td>December</td>\n",
       "    </tr>\n",
       "    <tr>\n",
       "      <th>1</th>\n",
       "      <td>69</td>\n",
       "      <td>11</td>\n",
       "      <td>107</td>\n",
       "      <td>0.0</td>\n",
       "      <td>37</td>\n",
       "      <td>557.540541</td>\n",
       "      <td>0.000000</td>\n",
       "      <td>0.000000</td>\n",
       "      <td>0.000000</td>\n",
       "      <td>2002</td>\n",
       "      <td>5</td>\n",
       "      <td>29</td>\n",
       "      <td>May</td>\n",
       "    </tr>\n",
       "    <tr>\n",
       "      <th>2</th>\n",
       "      <td>62</td>\n",
       "      <td>11</td>\n",
       "      <td>301</td>\n",
       "      <td>0.0</td>\n",
       "      <td>18</td>\n",
       "      <td>798.611111</td>\n",
       "      <td>37.888889</td>\n",
       "      <td>0.000000</td>\n",
       "      <td>0.000000</td>\n",
       "      <td>1986</td>\n",
       "      <td>3</td>\n",
       "      <td>13</td>\n",
       "      <td>March</td>\n",
       "    </tr>\n",
       "    <tr>\n",
       "      <th>3</th>\n",
       "      <td>69</td>\n",
       "      <td>11</td>\n",
       "      <td>105</td>\n",
       "      <td>0.0</td>\n",
       "      <td>20</td>\n",
       "      <td>1.200000</td>\n",
       "      <td>0.000000</td>\n",
       "      <td>0.000000</td>\n",
       "      <td>0.000000</td>\n",
       "      <td>1996</td>\n",
       "      <td>11</td>\n",
       "      <td>7</td>\n",
       "      <td>November</td>\n",
       "    </tr>\n",
       "    <tr>\n",
       "      <th>4</th>\n",
       "      <td>62</td>\n",
       "      <td>11</td>\n",
       "      <td>303</td>\n",
       "      <td>0.0</td>\n",
       "      <td>14</td>\n",
       "      <td>663.714286</td>\n",
       "      <td>104.857143</td>\n",
       "      <td>117.357143</td>\n",
       "      <td>36.714286</td>\n",
       "      <td>2014</td>\n",
       "      <td>10</td>\n",
       "      <td>14</td>\n",
       "      <td>October</td>\n",
       "    </tr>\n",
       "    <tr>\n",
       "      <th>...</th>\n",
       "      <td>...</td>\n",
       "      <td>...</td>\n",
       "      <td>...</td>\n",
       "      <td>...</td>\n",
       "      <td>...</td>\n",
       "      <td>...</td>\n",
       "      <td>...</td>\n",
       "      <td>...</td>\n",
       "      <td>...</td>\n",
       "      <td>...</td>\n",
       "      <td>...</td>\n",
       "      <td>...</td>\n",
       "      <td>...</td>\n",
       "    </tr>\n",
       "    <tr>\n",
       "      <th>135488</th>\n",
       "      <td>62</td>\n",
       "      <td>11</td>\n",
       "      <td>304</td>\n",
       "      <td>0.0</td>\n",
       "      <td>71</td>\n",
       "      <td>1.957746</td>\n",
       "      <td>0.000000</td>\n",
       "      <td>0.000000</td>\n",
       "      <td>0.000000</td>\n",
       "      <td>2004</td>\n",
       "      <td>7</td>\n",
       "      <td>26</td>\n",
       "      <td>July</td>\n",
       "    </tr>\n",
       "    <tr>\n",
       "      <th>135489</th>\n",
       "      <td>63</td>\n",
       "      <td>11</td>\n",
       "      <td>311</td>\n",
       "      <td>0.0</td>\n",
       "      <td>41</td>\n",
       "      <td>185.853659</td>\n",
       "      <td>0.756098</td>\n",
       "      <td>0.000000</td>\n",
       "      <td>0.000000</td>\n",
       "      <td>2012</td>\n",
       "      <td>10</td>\n",
       "      <td>25</td>\n",
       "      <td>October</td>\n",
       "    </tr>\n",
       "    <tr>\n",
       "      <th>135490</th>\n",
       "      <td>63</td>\n",
       "      <td>11</td>\n",
       "      <td>311</td>\n",
       "      <td>0.0</td>\n",
       "      <td>36</td>\n",
       "      <td>273.083333</td>\n",
       "      <td>0.000000</td>\n",
       "      <td>0.000000</td>\n",
       "      <td>0.000000</td>\n",
       "      <td>2011</td>\n",
       "      <td>11</td>\n",
       "      <td>22</td>\n",
       "      <td>November</td>\n",
       "    </tr>\n",
       "    <tr>\n",
       "      <th>135491</th>\n",
       "      <td>60</td>\n",
       "      <td>11</td>\n",
       "      <td>101</td>\n",
       "      <td>0.0</td>\n",
       "      <td>2</td>\n",
       "      <td>300.000000</td>\n",
       "      <td>70.500000</td>\n",
       "      <td>0.000000</td>\n",
       "      <td>0.000000</td>\n",
       "      <td>1993</td>\n",
       "      <td>12</td>\n",
       "      <td>22</td>\n",
       "      <td>December</td>\n",
       "    </tr>\n",
       "    <tr>\n",
       "      <th>135492</th>\n",
       "      <td>60</td>\n",
       "      <td>11</td>\n",
       "      <td>101</td>\n",
       "      <td>0.0</td>\n",
       "      <td>3</td>\n",
       "      <td>459.333333</td>\n",
       "      <td>0.000000</td>\n",
       "      <td>0.000000</td>\n",
       "      <td>0.000000</td>\n",
       "      <td>1986</td>\n",
       "      <td>2</td>\n",
       "      <td>18</td>\n",
       "      <td>February</td>\n",
       "    </tr>\n",
       "  </tbody>\n",
       "</table>\n",
       "<p>135493 rows × 13 columns</p>\n",
       "</div>"
      ],
      "text/plain": [
       "        disrict  client_catg  region  target  1transactions_count  \\\n",
       "0            60           11     101     0.0                   35   \n",
       "1            69           11     107     0.0                   37   \n",
       "2            62           11     301     0.0                   18   \n",
       "3            69           11     105     0.0                   20   \n",
       "4            62           11     303     0.0                   14   \n",
       "...         ...          ...     ...     ...                  ...   \n",
       "135488       62           11     304     0.0                   71   \n",
       "135489       63           11     311     0.0                   41   \n",
       "135490       63           11     311     0.0                   36   \n",
       "135491       60           11     101     0.0                    2   \n",
       "135492       60           11     101     0.0                    3   \n",
       "\n",
       "        consommation_level_1_mean  consommation_level_2_mean  \\\n",
       "0                      352.400000                  10.571429   \n",
       "1                      557.540541                   0.000000   \n",
       "2                      798.611111                  37.888889   \n",
       "3                        1.200000                   0.000000   \n",
       "4                      663.714286                 104.857143   \n",
       "...                           ...                        ...   \n",
       "135488                   1.957746                   0.000000   \n",
       "135489                 185.853659                   0.756098   \n",
       "135490                 273.083333                   0.000000   \n",
       "135491                 300.000000                  70.500000   \n",
       "135492                 459.333333                   0.000000   \n",
       "\n",
       "        consommation_level_3_mean  consommation_level_4_mean  year  month  \\\n",
       "0                        0.000000                   0.000000  1994     12   \n",
       "1                        0.000000                   0.000000  2002      5   \n",
       "2                        0.000000                   0.000000  1986      3   \n",
       "3                        0.000000                   0.000000  1996     11   \n",
       "4                      117.357143                  36.714286  2014     10   \n",
       "...                           ...                        ...   ...    ...   \n",
       "135488                   0.000000                   0.000000  2004      7   \n",
       "135489                   0.000000                   0.000000  2012     10   \n",
       "135490                   0.000000                   0.000000  2011     11   \n",
       "135491                   0.000000                   0.000000  1993     12   \n",
       "135492                   0.000000                   0.000000  1986      2   \n",
       "\n",
       "        day month_name  \n",
       "0        31   December  \n",
       "1        29        May  \n",
       "2        13      March  \n",
       "3         7   November  \n",
       "4        14    October  \n",
       "...     ...        ...  \n",
       "135488   26       July  \n",
       "135489   25    October  \n",
       "135490   22   November  \n",
       "135491   22   December  \n",
       "135492   18   February  \n",
       "\n",
       "[135493 rows x 13 columns]"
      ]
     },
     "execution_count": 3,
     "metadata": {},
     "output_type": "execute_result"
    }
   ],
   "source": [
    "data"
   ]
  },
  {
   "cell_type": "code",
   "execution_count": 4,
   "id": "0cc57b57",
   "metadata": {},
   "outputs": [],
   "source": [
    "X = data.drop('target',axis=1)\n",
    "y = data.target"
   ]
  },
  {
   "cell_type": "markdown",
   "id": "a5832830",
   "metadata": {},
   "source": [
    "# Data Preparation"
   ]
  },
  {
   "cell_type": "code",
   "execution_count": 5,
   "id": "309d5138",
   "metadata": {},
   "outputs": [],
   "source": [
    "# Devide them to training, validation and test parts (60:20:20): \n",
    "X_train_full_df, X_test_df, y_train_full_df, y_test = train_test_split(X, y, test_size = 0.20, random_state = 2022)\n",
    "X_train_df, X_val_df, y_train, y_val = train_test_split(X_train_full_df, y_train_full_df, test_size = 0.25, random_state = 2022)\n",
    "\n",
    "# Vectorize feature matrices in the form of dictionary (with renewed indexes):\n",
    "dv = DictVectorizer(sparse=False)\n",
    "\n",
    "X_train_df = X_train_full_df.reset_index(drop=True)\n",
    "X_train_dict = X_train_full_df.to_dict(orient='records')\n",
    "X_train = dv.fit_transform(X_train_dict)\n",
    "\n",
    "#X_val_df = X_val_df.reset_index(drop=True)\n",
    "#X_val_dict = X_val_df.to_dict(orient='records')\n",
    "#X_val = dv.fit_transform(X_val_dict)\n",
    "\n",
    "X_test_df = X_test_df.reset_index(drop=True)\n",
    "X_test_dict = X_test_df.to_dict(orient='records')\n",
    "X_test = dv.fit_transform(X_test_dict)\n",
    "\n",
    "# Renew the index of target variables\n",
    "y_train = y_train_full_df.reset_index(drop=True)\n",
    "#y_val = y_val.reset_index(drop=True)\n",
    "y_test = y_test.reset_index(drop=True)\n"
   ]
  },
  {
   "cell_type": "markdown",
   "id": "835823ab",
   "metadata": {},
   "source": [
    "# Random Forest Classifier"
   ]
  },
  {
   "cell_type": "code",
   "execution_count": 6,
   "id": "61ba8098",
   "metadata": {},
   "outputs": [
    {
     "data": {
      "text/plain": [
       "0.7254847397831794"
      ]
     },
     "execution_count": 6,
     "metadata": {},
     "output_type": "execute_result"
    }
   ],
   "source": [
    "model = RandomForestClassifier(n_estimators=200,\n",
    "                                    max_depth = 3,min_samples_leaf=3,\n",
    "                                    random_state =2022)\n",
    "model.fit(X_train,y_train)\n",
    "\n",
    "y_pred = model.predict_proba(X_test)[:,1]\n",
    "roc_auc_score(y_test, y_pred)"
   ]
  },
  {
   "cell_type": "markdown",
   "id": "4e0e912f",
   "metadata": {},
   "source": [
    "# saving the model"
   ]
  },
  {
   "cell_type": "code",
   "execution_count": 7,
   "id": "9d8f5de6",
   "metadata": {},
   "outputs": [],
   "source": [
    "import pickle"
   ]
  },
  {
   "cell_type": "code",
   "execution_count": 8,
   "id": "af59c25e",
   "metadata": {},
   "outputs": [],
   "source": [
    "output_file = 'fraud_model.bin'"
   ]
  },
  {
   "cell_type": "code",
   "execution_count": 9,
   "id": "a2ea9086",
   "metadata": {},
   "outputs": [],
   "source": [
    "with open(output_file, 'wb') as f_out:\n",
    "    \n",
    "    pickle.dump((dv,model), f_out)"
   ]
  },
  {
   "cell_type": "markdown",
   "id": "d48a6fa7",
   "metadata": {},
   "source": [
    "# Load the model"
   ]
  },
  {
   "cell_type": "code",
   "execution_count": 10,
   "id": "56eebb32",
   "metadata": {},
   "outputs": [],
   "source": [
    "import pickle"
   ]
  },
  {
   "cell_type": "code",
   "execution_count": 11,
   "id": "7fd6b617",
   "metadata": {},
   "outputs": [],
   "source": [
    "model_file = 'fraud_model.bin'"
   ]
  },
  {
   "cell_type": "code",
   "execution_count": 12,
   "id": "5b85571d",
   "metadata": {},
   "outputs": [],
   "source": [
    "with open(model_file, 'rb') as f_in:\n",
    "    dv, model = pickle.load(f_in)\n",
    "    \n",
    "    "
   ]
  },
  {
   "cell_type": "code",
   "execution_count": 13,
   "id": "534fc7a1",
   "metadata": {},
   "outputs": [
    {
     "data": {
      "text/plain": [
       "(DictVectorizer(sparse=False),\n",
       " RandomForestClassifier(max_depth=3, min_samples_leaf=3, n_estimators=200,\n",
       "                        random_state=2022))"
      ]
     },
     "execution_count": 13,
     "metadata": {},
     "output_type": "execute_result"
    }
   ],
   "source": [
    "dv, model"
   ]
  },
  {
   "cell_type": "code",
   "execution_count": 14,
   "id": "8dc44f16",
   "metadata": {},
   "outputs": [
    {
     "data": {
      "text/plain": [
       "0        0.0\n",
       "1        0.0\n",
       "2        0.0\n",
       "3        0.0\n",
       "4        0.0\n",
       "        ... \n",
       "27094    0.0\n",
       "27095    0.0\n",
       "27096    0.0\n",
       "27097    0.0\n",
       "27098    0.0\n",
       "Name: target, Length: 27099, dtype: float64"
      ]
     },
     "execution_count": 14,
     "metadata": {},
     "output_type": "execute_result"
    }
   ],
   "source": [
    "y_test"
   ]
  },
  {
   "cell_type": "code",
   "execution_count": 20,
   "id": "e573c2a0",
   "metadata": {},
   "outputs": [
    {
     "data": {
      "text/plain": [
       "[<bound method Series.to_dict of disrict                              60\n",
       " client_catg                          11\n",
       " region                              101\n",
       " 1transactions_count                  34\n",
       " consommation_level_1_mean    442.735294\n",
       " consommation_level_2_mean           0.0\n",
       " consommation_level_3_mean           0.0\n",
       " consommation_level_4_mean           0.0\n",
       " year                               2007\n",
       " month                                11\n",
       " day                                  30\n",
       " month_name                     November\n",
       " Name: 46716, dtype: object>]"
      ]
     },
     "execution_count": 20,
     "metadata": {},
     "output_type": "execute_result"
    }
   ],
   "source": [
    "[X_val_df.iloc[132].to_dict]"
   ]
  },
  {
   "cell_type": "code",
   "execution_count": null,
   "id": "571ff70f",
   "metadata": {},
   "outputs": [],
   "source": []
  }
 ],
 "metadata": {
  "kernelspec": {
   "display_name": "Python 3 (ipykernel)",
   "language": "python",
   "name": "python3"
  },
  "language_info": {
   "codemirror_mode": {
    "name": "ipython",
    "version": 3
   },
   "file_extension": ".py",
   "mimetype": "text/x-python",
   "name": "python",
   "nbconvert_exporter": "python",
   "pygments_lexer": "ipython3",
   "version": "3.9.7"
  }
 },
 "nbformat": 4,
 "nbformat_minor": 5
}
