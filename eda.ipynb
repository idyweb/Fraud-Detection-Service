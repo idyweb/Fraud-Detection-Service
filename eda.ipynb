{
 "cells": [
  {
   "cell_type": "code",
   "execution_count": 1,
   "id": "fb07e71a",
   "metadata": {},
   "outputs": [],
   "source": [
    "import pandas as pd\n",
    "import numpy as np\n",
    "import seaborn as sns\n",
    "import matplotlib.pyplot as plt"
   ]
  },
  {
   "cell_type": "code",
   "execution_count": 2,
   "id": "05c8a752",
   "metadata": {},
   "outputs": [
    {
     "data": {
      "text/html": [
       "<div>\n",
       "<style scoped>\n",
       "    .dataframe tbody tr th:only-of-type {\n",
       "        vertical-align: middle;\n",
       "    }\n",
       "\n",
       "    .dataframe tbody tr th {\n",
       "        vertical-align: top;\n",
       "    }\n",
       "\n",
       "    .dataframe thead th {\n",
       "        text-align: right;\n",
       "    }\n",
       "</style>\n",
       "<table border=\"1\" class=\"dataframe\">\n",
       "  <thead>\n",
       "    <tr style=\"text-align: right;\">\n",
       "      <th></th>\n",
       "      <th>disrict</th>\n",
       "      <th>client_id</th>\n",
       "      <th>client_catg</th>\n",
       "      <th>region</th>\n",
       "      <th>creation_date</th>\n",
       "      <th>target</th>\n",
       "      <th>1transactions_count</th>\n",
       "      <th>consommation_level_1_mean</th>\n",
       "      <th>consommation_level_2_mean</th>\n",
       "      <th>consommation_level_3_mean</th>\n",
       "      <th>consommation_level_4_mean</th>\n",
       "    </tr>\n",
       "  </thead>\n",
       "  <tbody>\n",
       "    <tr>\n",
       "      <th>0</th>\n",
       "      <td>60</td>\n",
       "      <td>train_Client_0</td>\n",
       "      <td>11</td>\n",
       "      <td>101</td>\n",
       "      <td>31/12/1994</td>\n",
       "      <td>0.0</td>\n",
       "      <td>35</td>\n",
       "      <td>352.400000</td>\n",
       "      <td>10.571429</td>\n",
       "      <td>0.000000</td>\n",
       "      <td>0.000000</td>\n",
       "    </tr>\n",
       "    <tr>\n",
       "      <th>1</th>\n",
       "      <td>69</td>\n",
       "      <td>train_Client_1</td>\n",
       "      <td>11</td>\n",
       "      <td>107</td>\n",
       "      <td>29/05/2002</td>\n",
       "      <td>0.0</td>\n",
       "      <td>37</td>\n",
       "      <td>557.540541</td>\n",
       "      <td>0.000000</td>\n",
       "      <td>0.000000</td>\n",
       "      <td>0.000000</td>\n",
       "    </tr>\n",
       "    <tr>\n",
       "      <th>2</th>\n",
       "      <td>62</td>\n",
       "      <td>train_Client_10</td>\n",
       "      <td>11</td>\n",
       "      <td>301</td>\n",
       "      <td>13/03/1986</td>\n",
       "      <td>0.0</td>\n",
       "      <td>18</td>\n",
       "      <td>798.611111</td>\n",
       "      <td>37.888889</td>\n",
       "      <td>0.000000</td>\n",
       "      <td>0.000000</td>\n",
       "    </tr>\n",
       "    <tr>\n",
       "      <th>3</th>\n",
       "      <td>69</td>\n",
       "      <td>train_Client_100</td>\n",
       "      <td>11</td>\n",
       "      <td>105</td>\n",
       "      <td>11/07/1996</td>\n",
       "      <td>0.0</td>\n",
       "      <td>20</td>\n",
       "      <td>1.200000</td>\n",
       "      <td>0.000000</td>\n",
       "      <td>0.000000</td>\n",
       "      <td>0.000000</td>\n",
       "    </tr>\n",
       "    <tr>\n",
       "      <th>4</th>\n",
       "      <td>62</td>\n",
       "      <td>train_Client_1000</td>\n",
       "      <td>11</td>\n",
       "      <td>303</td>\n",
       "      <td>14/10/2014</td>\n",
       "      <td>0.0</td>\n",
       "      <td>14</td>\n",
       "      <td>663.714286</td>\n",
       "      <td>104.857143</td>\n",
       "      <td>117.357143</td>\n",
       "      <td>36.714286</td>\n",
       "    </tr>\n",
       "    <tr>\n",
       "      <th>...</th>\n",
       "      <td>...</td>\n",
       "      <td>...</td>\n",
       "      <td>...</td>\n",
       "      <td>...</td>\n",
       "      <td>...</td>\n",
       "      <td>...</td>\n",
       "      <td>...</td>\n",
       "      <td>...</td>\n",
       "      <td>...</td>\n",
       "      <td>...</td>\n",
       "      <td>...</td>\n",
       "    </tr>\n",
       "    <tr>\n",
       "      <th>135488</th>\n",
       "      <td>62</td>\n",
       "      <td>train_Client_99995</td>\n",
       "      <td>11</td>\n",
       "      <td>304</td>\n",
       "      <td>26/07/2004</td>\n",
       "      <td>0.0</td>\n",
       "      <td>71</td>\n",
       "      <td>1.957746</td>\n",
       "      <td>0.000000</td>\n",
       "      <td>0.000000</td>\n",
       "      <td>0.000000</td>\n",
       "    </tr>\n",
       "    <tr>\n",
       "      <th>135489</th>\n",
       "      <td>63</td>\n",
       "      <td>train_Client_99996</td>\n",
       "      <td>11</td>\n",
       "      <td>311</td>\n",
       "      <td>25/10/2012</td>\n",
       "      <td>0.0</td>\n",
       "      <td>41</td>\n",
       "      <td>185.853659</td>\n",
       "      <td>0.756098</td>\n",
       "      <td>0.000000</td>\n",
       "      <td>0.000000</td>\n",
       "    </tr>\n",
       "    <tr>\n",
       "      <th>135490</th>\n",
       "      <td>63</td>\n",
       "      <td>train_Client_99997</td>\n",
       "      <td>11</td>\n",
       "      <td>311</td>\n",
       "      <td>22/11/2011</td>\n",
       "      <td>0.0</td>\n",
       "      <td>36</td>\n",
       "      <td>273.083333</td>\n",
       "      <td>0.000000</td>\n",
       "      <td>0.000000</td>\n",
       "      <td>0.000000</td>\n",
       "    </tr>\n",
       "    <tr>\n",
       "      <th>135491</th>\n",
       "      <td>60</td>\n",
       "      <td>train_Client_99998</td>\n",
       "      <td>11</td>\n",
       "      <td>101</td>\n",
       "      <td>22/12/1993</td>\n",
       "      <td>0.0</td>\n",
       "      <td>2</td>\n",
       "      <td>300.000000</td>\n",
       "      <td>70.500000</td>\n",
       "      <td>0.000000</td>\n",
       "      <td>0.000000</td>\n",
       "    </tr>\n",
       "    <tr>\n",
       "      <th>135492</th>\n",
       "      <td>60</td>\n",
       "      <td>train_Client_99999</td>\n",
       "      <td>11</td>\n",
       "      <td>101</td>\n",
       "      <td>18/02/1986</td>\n",
       "      <td>0.0</td>\n",
       "      <td>3</td>\n",
       "      <td>459.333333</td>\n",
       "      <td>0.000000</td>\n",
       "      <td>0.000000</td>\n",
       "      <td>0.000000</td>\n",
       "    </tr>\n",
       "  </tbody>\n",
       "</table>\n",
       "<p>135493 rows × 11 columns</p>\n",
       "</div>"
      ],
      "text/plain": [
       "        disrict           client_id  client_catg  region creation_date  \\\n",
       "0            60      train_Client_0           11     101    31/12/1994   \n",
       "1            69      train_Client_1           11     107    29/05/2002   \n",
       "2            62     train_Client_10           11     301    13/03/1986   \n",
       "3            69    train_Client_100           11     105    11/07/1996   \n",
       "4            62   train_Client_1000           11     303    14/10/2014   \n",
       "...         ...                 ...          ...     ...           ...   \n",
       "135488       62  train_Client_99995           11     304    26/07/2004   \n",
       "135489       63  train_Client_99996           11     311    25/10/2012   \n",
       "135490       63  train_Client_99997           11     311    22/11/2011   \n",
       "135491       60  train_Client_99998           11     101    22/12/1993   \n",
       "135492       60  train_Client_99999           11     101    18/02/1986   \n",
       "\n",
       "        target  1transactions_count  consommation_level_1_mean  \\\n",
       "0          0.0                   35                 352.400000   \n",
       "1          0.0                   37                 557.540541   \n",
       "2          0.0                   18                 798.611111   \n",
       "3          0.0                   20                   1.200000   \n",
       "4          0.0                   14                 663.714286   \n",
       "...        ...                  ...                        ...   \n",
       "135488     0.0                   71                   1.957746   \n",
       "135489     0.0                   41                 185.853659   \n",
       "135490     0.0                   36                 273.083333   \n",
       "135491     0.0                    2                 300.000000   \n",
       "135492     0.0                    3                 459.333333   \n",
       "\n",
       "        consommation_level_2_mean  consommation_level_3_mean  \\\n",
       "0                       10.571429                   0.000000   \n",
       "1                        0.000000                   0.000000   \n",
       "2                       37.888889                   0.000000   \n",
       "3                        0.000000                   0.000000   \n",
       "4                      104.857143                 117.357143   \n",
       "...                           ...                        ...   \n",
       "135488                   0.000000                   0.000000   \n",
       "135489                   0.756098                   0.000000   \n",
       "135490                   0.000000                   0.000000   \n",
       "135491                  70.500000                   0.000000   \n",
       "135492                   0.000000                   0.000000   \n",
       "\n",
       "        consommation_level_4_mean  \n",
       "0                        0.000000  \n",
       "1                        0.000000  \n",
       "2                        0.000000  \n",
       "3                        0.000000  \n",
       "4                       36.714286  \n",
       "...                           ...  \n",
       "135488                   0.000000  \n",
       "135489                   0.000000  \n",
       "135490                   0.000000  \n",
       "135491                   0.000000  \n",
       "135492                   0.000000  \n",
       "\n",
       "[135493 rows x 11 columns]"
      ]
     },
     "execution_count": 2,
     "metadata": {},
     "output_type": "execute_result"
    }
   ],
   "source": [
    "data = pd.read_csv('data.csv')\n",
    "data"
   ]
  },
  {
   "cell_type": "code",
   "execution_count": 3,
   "id": "87e91cb8",
   "metadata": {},
   "outputs": [],
   "source": [
    "df = data.copy() # keep the original data"
   ]
  },
  {
   "cell_type": "code",
   "execution_count": 4,
   "id": "dfd0611b",
   "metadata": {},
   "outputs": [
    {
     "data": {
      "text/html": [
       "<div>\n",
       "<style scoped>\n",
       "    .dataframe tbody tr th:only-of-type {\n",
       "        vertical-align: middle;\n",
       "    }\n",
       "\n",
       "    .dataframe tbody tr th {\n",
       "        vertical-align: top;\n",
       "    }\n",
       "\n",
       "    .dataframe thead th {\n",
       "        text-align: right;\n",
       "    }\n",
       "</style>\n",
       "<table border=\"1\" class=\"dataframe\">\n",
       "  <thead>\n",
       "    <tr style=\"text-align: right;\">\n",
       "      <th></th>\n",
       "      <th>27742</th>\n",
       "      <th>63746</th>\n",
       "      <th>29830</th>\n",
       "      <th>71145</th>\n",
       "      <th>19872</th>\n",
       "    </tr>\n",
       "  </thead>\n",
       "  <tbody>\n",
       "    <tr>\n",
       "      <th>disrict</th>\n",
       "      <td>69</td>\n",
       "      <td>69</td>\n",
       "      <td>69</td>\n",
       "      <td>60</td>\n",
       "      <td>62</td>\n",
       "    </tr>\n",
       "    <tr>\n",
       "      <th>client_id</th>\n",
       "      <td>train_Client_124965</td>\n",
       "      <td>train_Client_35425</td>\n",
       "      <td>train_Client_126844</td>\n",
       "      <td>train_Client_42084</td>\n",
       "      <td>train_Client_117882</td>\n",
       "    </tr>\n",
       "    <tr>\n",
       "      <th>client_catg</th>\n",
       "      <td>11</td>\n",
       "      <td>11</td>\n",
       "      <td>11</td>\n",
       "      <td>11</td>\n",
       "      <td>11</td>\n",
       "    </tr>\n",
       "    <tr>\n",
       "      <th>region</th>\n",
       "      <td>104</td>\n",
       "      <td>104</td>\n",
       "      <td>107</td>\n",
       "      <td>101</td>\n",
       "      <td>305</td>\n",
       "    </tr>\n",
       "    <tr>\n",
       "      <th>creation_date</th>\n",
       "      <td>24/02/2017</td>\n",
       "      <td>12/08/2016</td>\n",
       "      <td>12/06/2000</td>\n",
       "      <td>05/08/2015</td>\n",
       "      <td>29/10/2002</td>\n",
       "    </tr>\n",
       "    <tr>\n",
       "      <th>target</th>\n",
       "      <td>0.0</td>\n",
       "      <td>0.0</td>\n",
       "      <td>0.0</td>\n",
       "      <td>0.0</td>\n",
       "      <td>0.0</td>\n",
       "    </tr>\n",
       "    <tr>\n",
       "      <th>1transactions_count</th>\n",
       "      <td>7</td>\n",
       "      <td>7</td>\n",
       "      <td>66</td>\n",
       "      <td>2</td>\n",
       "      <td>67</td>\n",
       "    </tr>\n",
       "    <tr>\n",
       "      <th>consommation_level_1_mean</th>\n",
       "      <td>0.0</td>\n",
       "      <td>612.428571</td>\n",
       "      <td>341.772727</td>\n",
       "      <td>600.0</td>\n",
       "      <td>234.447761</td>\n",
       "    </tr>\n",
       "    <tr>\n",
       "      <th>consommation_level_2_mean</th>\n",
       "      <td>0.0</td>\n",
       "      <td>85.285714</td>\n",
       "      <td>12.121212</td>\n",
       "      <td>300.0</td>\n",
       "      <td>0.0</td>\n",
       "    </tr>\n",
       "    <tr>\n",
       "      <th>consommation_level_3_mean</th>\n",
       "      <td>0.0</td>\n",
       "      <td>0.0</td>\n",
       "      <td>6.015152</td>\n",
       "      <td>600.0</td>\n",
       "      <td>0.0</td>\n",
       "    </tr>\n",
       "    <tr>\n",
       "      <th>consommation_level_4_mean</th>\n",
       "      <td>0.0</td>\n",
       "      <td>0.0</td>\n",
       "      <td>0.0</td>\n",
       "      <td>6954.0</td>\n",
       "      <td>0.0</td>\n",
       "    </tr>\n",
       "  </tbody>\n",
       "</table>\n",
       "</div>"
      ],
      "text/plain": [
       "                                         27742               63746  \\\n",
       "disrict                                     69                  69   \n",
       "client_id                  train_Client_124965  train_Client_35425   \n",
       "client_catg                                 11                  11   \n",
       "region                                     104                 104   \n",
       "creation_date                       24/02/2017          12/08/2016   \n",
       "target                                     0.0                 0.0   \n",
       "1transactions_count                          7                   7   \n",
       "consommation_level_1_mean                  0.0          612.428571   \n",
       "consommation_level_2_mean                  0.0           85.285714   \n",
       "consommation_level_3_mean                  0.0                 0.0   \n",
       "consommation_level_4_mean                  0.0                 0.0   \n",
       "\n",
       "                                         29830               71145  \\\n",
       "disrict                                     69                  60   \n",
       "client_id                  train_Client_126844  train_Client_42084   \n",
       "client_catg                                 11                  11   \n",
       "region                                     107                 101   \n",
       "creation_date                       12/06/2000          05/08/2015   \n",
       "target                                     0.0                 0.0   \n",
       "1transactions_count                         66                   2   \n",
       "consommation_level_1_mean           341.772727               600.0   \n",
       "consommation_level_2_mean            12.121212               300.0   \n",
       "consommation_level_3_mean             6.015152               600.0   \n",
       "consommation_level_4_mean                  0.0              6954.0   \n",
       "\n",
       "                                         19872  \n",
       "disrict                                     62  \n",
       "client_id                  train_Client_117882  \n",
       "client_catg                                 11  \n",
       "region                                     305  \n",
       "creation_date                       29/10/2002  \n",
       "target                                     0.0  \n",
       "1transactions_count                         67  \n",
       "consommation_level_1_mean           234.447761  \n",
       "consommation_level_2_mean                  0.0  \n",
       "consommation_level_3_mean                  0.0  \n",
       "consommation_level_4_mean                  0.0  "
      ]
     },
     "execution_count": 4,
     "metadata": {},
     "output_type": "execute_result"
    }
   ],
   "source": [
    "df.sample(5).T"
   ]
  },
  {
   "cell_type": "markdown",
   "id": "fc728502",
   "metadata": {},
   "source": [
    "- Please refer to README.md for description of each parameter.\n"
   ]
  },
  {
   "cell_type": "markdown",
   "id": "f6c8f1d1",
   "metadata": {},
   "source": [
    "# Basic EDA"
   ]
  },
  {
   "cell_type": "markdown",
   "id": "3fb83e4a",
   "metadata": {},
   "source": [
    "Check for missing values:"
   ]
  },
  {
   "cell_type": "code",
   "execution_count": 5,
   "id": "9b6c8c6f",
   "metadata": {},
   "outputs": [
    {
     "data": {
      "text/plain": [
       "disrict                      0\n",
       "client_id                    0\n",
       "client_catg                  0\n",
       "region                       0\n",
       "creation_date                0\n",
       "target                       0\n",
       "1transactions_count          0\n",
       "consommation_level_1_mean    0\n",
       "consommation_level_2_mean    0\n",
       "consommation_level_3_mean    0\n",
       "consommation_level_4_mean    0\n",
       "dtype: int64"
      ]
     },
     "execution_count": 5,
     "metadata": {},
     "output_type": "execute_result"
    }
   ],
   "source": [
    "df.isnull().sum()"
   ]
  },
  {
   "cell_type": "markdown",
   "id": "861eb923",
   "metadata": {},
   "source": [
    "Check the info about data:"
   ]
  },
  {
   "cell_type": "code",
   "execution_count": 6,
   "id": "6196e57f",
   "metadata": {},
   "outputs": [
    {
     "name": "stdout",
     "output_type": "stream",
     "text": [
      "<class 'pandas.core.frame.DataFrame'>\n",
      "RangeIndex: 135493 entries, 0 to 135492\n",
      "Data columns (total 11 columns):\n",
      " #   Column                     Non-Null Count   Dtype  \n",
      "---  ------                     --------------   -----  \n",
      " 0   disrict                    135493 non-null  int64  \n",
      " 1   client_id                  135493 non-null  object \n",
      " 2   client_catg                135493 non-null  int64  \n",
      " 3   region                     135493 non-null  int64  \n",
      " 4   creation_date              135493 non-null  object \n",
      " 5   target                     135493 non-null  float64\n",
      " 6   1transactions_count        135493 non-null  int64  \n",
      " 7   consommation_level_1_mean  135493 non-null  float64\n",
      " 8   consommation_level_2_mean  135493 non-null  float64\n",
      " 9   consommation_level_3_mean  135493 non-null  float64\n",
      " 10  consommation_level_4_mean  135493 non-null  float64\n",
      "dtypes: float64(5), int64(4), object(2)\n",
      "memory usage: 11.4+ MB\n"
     ]
    }
   ],
   "source": [
    "df.info()"
   ]
  },
  {
   "cell_type": "code",
   "execution_count": 7,
   "id": "7bd864dc",
   "metadata": {},
   "outputs": [
    {
     "data": {
      "text/html": [
       "<div>\n",
       "<style scoped>\n",
       "    .dataframe tbody tr th:only-of-type {\n",
       "        vertical-align: middle;\n",
       "    }\n",
       "\n",
       "    .dataframe tbody tr th {\n",
       "        vertical-align: top;\n",
       "    }\n",
       "\n",
       "    .dataframe thead th {\n",
       "        text-align: right;\n",
       "    }\n",
       "</style>\n",
       "<table border=\"1\" class=\"dataframe\">\n",
       "  <thead>\n",
       "    <tr style=\"text-align: right;\">\n",
       "      <th></th>\n",
       "      <th>disrict</th>\n",
       "      <th>client_catg</th>\n",
       "      <th>region</th>\n",
       "      <th>target</th>\n",
       "      <th>1transactions_count</th>\n",
       "      <th>consommation_level_1_mean</th>\n",
       "      <th>consommation_level_2_mean</th>\n",
       "      <th>consommation_level_3_mean</th>\n",
       "      <th>consommation_level_4_mean</th>\n",
       "    </tr>\n",
       "  </thead>\n",
       "  <tbody>\n",
       "    <tr>\n",
       "      <th>min</th>\n",
       "      <td>60.000000</td>\n",
       "      <td>11.000000</td>\n",
       "      <td>101.000000</td>\n",
       "      <td>0.000000</td>\n",
       "      <td>1.000000</td>\n",
       "      <td>0.000000</td>\n",
       "      <td>0.000000</td>\n",
       "      <td>0.000000</td>\n",
       "      <td>0.000000</td>\n",
       "    </tr>\n",
       "    <tr>\n",
       "      <th>mean</th>\n",
       "      <td>63.511222</td>\n",
       "      <td>11.512506</td>\n",
       "      <td>206.159809</td>\n",
       "      <td>0.055841</td>\n",
       "      <td>33.040445</td>\n",
       "      <td>432.366021</td>\n",
       "      <td>115.334253</td>\n",
       "      <td>27.634241</td>\n",
       "      <td>73.097981</td>\n",
       "    </tr>\n",
       "    <tr>\n",
       "      <th>max</th>\n",
       "      <td>69.000000</td>\n",
       "      <td>51.000000</td>\n",
       "      <td>399.000000</td>\n",
       "      <td>1.000000</td>\n",
       "      <td>439.000000</td>\n",
       "      <td>99920.000000</td>\n",
       "      <td>115683.000000</td>\n",
       "      <td>38526.857143</td>\n",
       "      <td>79179.777778</td>\n",
       "    </tr>\n",
       "    <tr>\n",
       "      <th>std</th>\n",
       "      <td>3.354400</td>\n",
       "      <td>4.423761</td>\n",
       "      <td>104.207044</td>\n",
       "      <td>0.229614</td>\n",
       "      <td>26.092229</td>\n",
       "      <td>758.003977</td>\n",
       "      <td>747.416809</td>\n",
       "      <td>157.294518</td>\n",
       "      <td>814.216626</td>\n",
       "    </tr>\n",
       "  </tbody>\n",
       "</table>\n",
       "</div>"
      ],
      "text/plain": [
       "        disrict  client_catg      region    target  1transactions_count  \\\n",
       "min   60.000000    11.000000  101.000000  0.000000             1.000000   \n",
       "mean  63.511222    11.512506  206.159809  0.055841            33.040445   \n",
       "max   69.000000    51.000000  399.000000  1.000000           439.000000   \n",
       "std    3.354400     4.423761  104.207044  0.229614            26.092229   \n",
       "\n",
       "      consommation_level_1_mean  consommation_level_2_mean  \\\n",
       "min                    0.000000                   0.000000   \n",
       "mean                 432.366021                 115.334253   \n",
       "max                99920.000000              115683.000000   \n",
       "std                  758.003977                 747.416809   \n",
       "\n",
       "      consommation_level_3_mean  consommation_level_4_mean  \n",
       "min                    0.000000                   0.000000  \n",
       "mean                  27.634241                  73.097981  \n",
       "max                38526.857143               79179.777778  \n",
       "std                  157.294518                 814.216626  "
      ]
     },
     "execution_count": 7,
     "metadata": {},
     "output_type": "execute_result"
    }
   ],
   "source": [
    "df.describe().loc[['min', 'mean', 'max', 'std']]"
   ]
  },
  {
   "cell_type": "markdown",
   "id": "d2ca0cd0",
   "metadata": {},
   "source": [
    "# Checking Uniqueness"
   ]
  },
  {
   "cell_type": "markdown",
   "id": "a130f87b",
   "metadata": {},
   "source": [
    "check the unique values of each columns"
   ]
  },
  {
   "cell_type": "code",
   "execution_count": 8,
   "id": "3cc533c0",
   "metadata": {
    "scrolled": true
   },
   "outputs": [
    {
     "data": {
      "text/plain": [
       "disrict                           4\n",
       "client_id                    135493\n",
       "client_catg                       3\n",
       "region                           25\n",
       "creation_date                  8088\n",
       "target                            2\n",
       "1transactions_count             260\n",
       "consommation_level_1_mean     94937\n",
       "consommation_level_2_mean     51696\n",
       "consommation_level_3_mean     26573\n",
       "consommation_level_4_mean     16247\n",
       "dtype: int64"
      ]
     },
     "execution_count": 8,
     "metadata": {},
     "output_type": "execute_result"
    }
   ],
   "source": [
    "df.nunique()"
   ]
  },
  {
   "cell_type": "markdown",
   "id": "706d904e",
   "metadata": {},
   "source": [
    "There are columns that are that are categoricals, but are displayed as numerical. example include:\n",
    "- district, \n",
    "- client_catg, \n",
    "- region.\n",
    "\n",
    "These will be handled in the feature engineering part."
   ]
  },
  {
   "cell_type": "code",
   "execution_count": 18,
   "id": "8875ddc2",
   "metadata": {
    "scrolled": true
   },
   "outputs": [
    {
     "data": {
      "image/png": "[encoded data removed]",
      "text/plain": [
       "<Figure size 432x288 with 1 Axes>"
      ]
     },
     "metadata": {
      "needs_background": "light"
     },
     "output_type": "display_data"
    }
   ],
   "source": [
    "color = sns.color_palette()[0]\n",
    "sns.countplot(data=df, x='disrict', color=color)\n",
    "plt.show()"
   ]
  },
  {
   "cell_type": "code",
   "execution_count": 19,
   "id": "022fad41",
   "metadata": {
    "scrolled": true
   },
   "outputs": [
    {
     "data": {
      "image/png": "[encoded data removed]",
      "text/plain": [
       "<Figure size 432x288 with 1 Axes>"
      ]
     },
     "metadata": {
      "needs_background": "light"
     },
     "output_type": "display_data"
    }
   ],
   "source": [
    "sns.countplot(data=df, x='client_catg', color=color)\n",
    "plt.show()"
   ]
  },
  {
   "cell_type": "code",
   "execution_count": 21,
   "id": "2187e8e1",
   "metadata": {},
   "outputs": [
    {
     "data": {
      "image/png": "[encoded data removed]",
      "text/plain": [
       "<Figure size 432x288 with 1 Axes>"
      ]
     },
     "metadata": {
      "needs_background": "light"
     },
     "output_type": "display_data"
    }
   ],
   "source": [
    "sns.countplot(data=df, x='region', color=color)\n",
    "plt.xticks(rotation=90)\n",
    "plt.show()"
   ]
  },
  {
   "cell_type": "markdown",
   "id": "2c660253",
   "metadata": {},
   "source": [
    "# Check Target Variables"
   ]
  },
  {
   "cell_type": "code",
   "execution_count": 22,
   "id": "866bd3df",
   "metadata": {},
   "outputs": [
    {
     "data": {
      "image/png": "[encoded data removed]",
      "text/plain": [
       "<Figure size 432x288 with 1 Axes>"
      ]
     },
     "metadata": {
      "needs_background": "light"
     },
     "output_type": "display_data"
    }
   ],
   "source": [
    "sns.countplot(data=df, x='target', color =color)\n",
    "plt.show()"
   ]
  },
  {
   "cell_type": "markdown",
   "id": "825da1c0",
   "metadata": {},
   "source": [
    "There is a huge class imbalance. This will be dealt with later in the analysis. There are more categories of non fraud compared to fraud."
   ]
  },
  {
   "cell_type": "code",
   "execution_count": null,
   "id": "8b7cabe7",
   "metadata": {},
   "outputs": [],
   "source": []
  }
 ],
 "metadata": {
  "kernelspec": {
   "display_name": "Python 3 (ipykernel)",
   "language": "python",
   "name": "python3"
  },
  "language_info": {
   "codemirror_mode": {
    "name": "ipython",
    "version": 3
   },
   "file_extension": ".py",
   "mimetype": "text/x-python",
   "name": "python",
   "nbconvert_exporter": "python",
   "pygments_lexer": "ipython3",
   "version": "3.9.7"
  }
 },
 "nbformat": 4,
 "nbformat_minor": 5
}
