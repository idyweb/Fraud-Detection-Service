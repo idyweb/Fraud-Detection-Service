{
 "cells": [
  {
   "cell_type": "code",
   "execution_count": 1,
   "id": "f2cf60f7",
   "metadata": {},
   "outputs": [],
   "source": [
    "import pandas as pd\n",
    "import numpy as np\n",
    "import seaborn as sns\n",
    "import matplotlib.pyplot as plt\n",
    "\n",
    "from sklearn.model_selection import train_test_split, GridSearchCV\n",
    "from sklearn.feature_extraction import DictVectorizer\n",
    "from sklearn.linear_model import LogisticRegression\n",
    "from sklearn.metrics import roc_auc_score"
   ]
  },
  {
   "cell_type": "code",
   "execution_count": 2,
   "id": "af23e28d",
   "metadata": {
    "scrolled": true
   },
   "outputs": [
    {
     "data": {
      "text/html": [
       "<div>\n",
       "<style scoped>\n",
       "    .dataframe tbody tr th:only-of-type {\n",
       "        vertical-align: middle;\n",
       "    }\n",
       "\n",
       "    .dataframe tbody tr th {\n",
       "        vertical-align: top;\n",
       "    }\n",
       "\n",
       "    .dataframe thead th {\n",
       "        text-align: right;\n",
       "    }\n",
       "</style>\n",
       "<table border=\"1\" class=\"dataframe\">\n",
       "  <thead>\n",
       "    <tr style=\"text-align: right;\">\n",
       "      <th></th>\n",
       "      <th>disrict</th>\n",
       "      <th>client_id</th>\n",
       "      <th>client_catg</th>\n",
       "      <th>region</th>\n",
       "      <th>creation_date</th>\n",
       "      <th>target</th>\n",
       "      <th>1transactions_count</th>\n",
       "      <th>consommation_level_1_mean</th>\n",
       "      <th>consommation_level_2_mean</th>\n",
       "      <th>consommation_level_3_mean</th>\n",
       "      <th>consommation_level_4_mean</th>\n",
       "    </tr>\n",
       "  </thead>\n",
       "  <tbody>\n",
       "    <tr>\n",
       "      <th>0</th>\n",
       "      <td>60</td>\n",
       "      <td>train_Client_0</td>\n",
       "      <td>11</td>\n",
       "      <td>101</td>\n",
       "      <td>31/12/1994</td>\n",
       "      <td>0.0</td>\n",
       "      <td>35</td>\n",
       "      <td>352.400000</td>\n",
       "      <td>10.571429</td>\n",
       "      <td>0.000000</td>\n",
       "      <td>0.000000</td>\n",
       "    </tr>\n",
       "    <tr>\n",
       "      <th>1</th>\n",
       "      <td>69</td>\n",
       "      <td>train_Client_1</td>\n",
       "      <td>11</td>\n",
       "      <td>107</td>\n",
       "      <td>29/05/2002</td>\n",
       "      <td>0.0</td>\n",
       "      <td>37</td>\n",
       "      <td>557.540541</td>\n",
       "      <td>0.000000</td>\n",
       "      <td>0.000000</td>\n",
       "      <td>0.000000</td>\n",
       "    </tr>\n",
       "    <tr>\n",
       "      <th>2</th>\n",
       "      <td>62</td>\n",
       "      <td>train_Client_10</td>\n",
       "      <td>11</td>\n",
       "      <td>301</td>\n",
       "      <td>13/03/1986</td>\n",
       "      <td>0.0</td>\n",
       "      <td>18</td>\n",
       "      <td>798.611111</td>\n",
       "      <td>37.888889</td>\n",
       "      <td>0.000000</td>\n",
       "      <td>0.000000</td>\n",
       "    </tr>\n",
       "    <tr>\n",
       "      <th>3</th>\n",
       "      <td>69</td>\n",
       "      <td>train_Client_100</td>\n",
       "      <td>11</td>\n",
       "      <td>105</td>\n",
       "      <td>11/07/1996</td>\n",
       "      <td>0.0</td>\n",
       "      <td>20</td>\n",
       "      <td>1.200000</td>\n",
       "      <td>0.000000</td>\n",
       "      <td>0.000000</td>\n",
       "      <td>0.000000</td>\n",
       "    </tr>\n",
       "    <tr>\n",
       "      <th>4</th>\n",
       "      <td>62</td>\n",
       "      <td>train_Client_1000</td>\n",
       "      <td>11</td>\n",
       "      <td>303</td>\n",
       "      <td>14/10/2014</td>\n",
       "      <td>0.0</td>\n",
       "      <td>14</td>\n",
       "      <td>663.714286</td>\n",
       "      <td>104.857143</td>\n",
       "      <td>117.357143</td>\n",
       "      <td>36.714286</td>\n",
       "    </tr>\n",
       "    <tr>\n",
       "      <th>...</th>\n",
       "      <td>...</td>\n",
       "      <td>...</td>\n",
       "      <td>...</td>\n",
       "      <td>...</td>\n",
       "      <td>...</td>\n",
       "      <td>...</td>\n",
       "      <td>...</td>\n",
       "      <td>...</td>\n",
       "      <td>...</td>\n",
       "      <td>...</td>\n",
       "      <td>...</td>\n",
       "    </tr>\n",
       "    <tr>\n",
       "      <th>135488</th>\n",
       "      <td>62</td>\n",
       "      <td>train_Client_99995</td>\n",
       "      <td>11</td>\n",
       "      <td>304</td>\n",
       "      <td>26/07/2004</td>\n",
       "      <td>0.0</td>\n",
       "      <td>71</td>\n",
       "      <td>1.957746</td>\n",
       "      <td>0.000000</td>\n",
       "      <td>0.000000</td>\n",
       "      <td>0.000000</td>\n",
       "    </tr>\n",
       "    <tr>\n",
       "      <th>135489</th>\n",
       "      <td>63</td>\n",
       "      <td>train_Client_99996</td>\n",
       "      <td>11</td>\n",
       "      <td>311</td>\n",
       "      <td>25/10/2012</td>\n",
       "      <td>0.0</td>\n",
       "      <td>41</td>\n",
       "      <td>185.853659</td>\n",
       "      <td>0.756098</td>\n",
       "      <td>0.000000</td>\n",
       "      <td>0.000000</td>\n",
       "    </tr>\n",
       "    <tr>\n",
       "      <th>135490</th>\n",
       "      <td>63</td>\n",
       "      <td>train_Client_99997</td>\n",
       "      <td>11</td>\n",
       "      <td>311</td>\n",
       "      <td>22/11/2011</td>\n",
       "      <td>0.0</td>\n",
       "      <td>36</td>\n",
       "      <td>273.083333</td>\n",
       "      <td>0.000000</td>\n",
       "      <td>0.000000</td>\n",
       "      <td>0.000000</td>\n",
       "    </tr>\n",
       "    <tr>\n",
       "      <th>135491</th>\n",
       "      <td>60</td>\n",
       "      <td>train_Client_99998</td>\n",
       "      <td>11</td>\n",
       "      <td>101</td>\n",
       "      <td>22/12/1993</td>\n",
       "      <td>0.0</td>\n",
       "      <td>2</td>\n",
       "      <td>300.000000</td>\n",
       "      <td>70.500000</td>\n",
       "      <td>0.000000</td>\n",
       "      <td>0.000000</td>\n",
       "    </tr>\n",
       "    <tr>\n",
       "      <th>135492</th>\n",
       "      <td>60</td>\n",
       "      <td>train_Client_99999</td>\n",
       "      <td>11</td>\n",
       "      <td>101</td>\n",
       "      <td>18/02/1986</td>\n",
       "      <td>0.0</td>\n",
       "      <td>3</td>\n",
       "      <td>459.333333</td>\n",
       "      <td>0.000000</td>\n",
       "      <td>0.000000</td>\n",
       "      <td>0.000000</td>\n",
       "    </tr>\n",
       "  </tbody>\n",
       "</table>\n",
       "<p>135493 rows × 11 columns</p>\n",
       "</div>"
      ],
      "text/plain": [
       "        disrict           client_id  client_catg  region creation_date  \\\n",
       "0            60      train_Client_0           11     101    31/12/1994   \n",
       "1            69      train_Client_1           11     107    29/05/2002   \n",
       "2            62     train_Client_10           11     301    13/03/1986   \n",
       "3            69    train_Client_100           11     105    11/07/1996   \n",
       "4            62   train_Client_1000           11     303    14/10/2014   \n",
       "...         ...                 ...          ...     ...           ...   \n",
       "135488       62  train_Client_99995           11     304    26/07/2004   \n",
       "135489       63  train_Client_99996           11     311    25/10/2012   \n",
       "135490       63  train_Client_99997           11     311    22/11/2011   \n",
       "135491       60  train_Client_99998           11     101    22/12/1993   \n",
       "135492       60  train_Client_99999           11     101    18/02/1986   \n",
       "\n",
       "        target  1transactions_count  consommation_level_1_mean  \\\n",
       "0          0.0                   35                 352.400000   \n",
       "1          0.0                   37                 557.540541   \n",
       "2          0.0                   18                 798.611111   \n",
       "3          0.0                   20                   1.200000   \n",
       "4          0.0                   14                 663.714286   \n",
       "...        ...                  ...                        ...   \n",
       "135488     0.0                   71                   1.957746   \n",
       "135489     0.0                   41                 185.853659   \n",
       "135490     0.0                   36                 273.083333   \n",
       "135491     0.0                    2                 300.000000   \n",
       "135492     0.0                    3                 459.333333   \n",
       "\n",
       "        consommation_level_2_mean  consommation_level_3_mean  \\\n",
       "0                       10.571429                   0.000000   \n",
       "1                        0.000000                   0.000000   \n",
       "2                       37.888889                   0.000000   \n",
       "3                        0.000000                   0.000000   \n",
       "4                      104.857143                 117.357143   \n",
       "...                           ...                        ...   \n",
       "135488                   0.000000                   0.000000   \n",
       "135489                   0.756098                   0.000000   \n",
       "135490                   0.000000                   0.000000   \n",
       "135491                  70.500000                   0.000000   \n",
       "135492                   0.000000                   0.000000   \n",
       "\n",
       "        consommation_level_4_mean  \n",
       "0                        0.000000  \n",
       "1                        0.000000  \n",
       "2                        0.000000  \n",
       "3                        0.000000  \n",
       "4                       36.714286  \n",
       "...                           ...  \n",
       "135488                   0.000000  \n",
       "135489                   0.000000  \n",
       "135490                   0.000000  \n",
       "135491                   0.000000  \n",
       "135492                   0.000000  \n",
       "\n",
       "[135493 rows x 11 columns]"
      ]
     },
     "execution_count": 2,
     "metadata": {},
     "output_type": "execute_result"
    }
   ],
   "source": [
    "data = pd.read_csv('data.csv')\n",
    "data"
   ]
  },
  {
   "cell_type": "markdown",
   "id": "d14d0cd1",
   "metadata": {},
   "source": [
    "Recall from EDA part that the data in 'disrict', 'client_catg', 'region' column is consist of integers. It would be considered a litle bit suspicious since they are unique. One can claim that it can be considered as categorical. so i cnverted them to categorical."
   ]
  },
  {
   "cell_type": "code",
   "execution_count": 3,
   "id": "3d1e08cc",
   "metadata": {},
   "outputs": [],
   "source": [
    "cols = ['disrict', 'client_catg', 'region']\n",
    "for item in cols:\n",
    "    data[item] = data[item].astype('category')\n"
   ]
  },
  {
   "cell_type": "code",
   "execution_count": 4,
   "id": "ad602083",
   "metadata": {},
   "outputs": [],
   "source": [
    "data['target'] = data['target'].astype(float)\n"
   ]
  },
  {
   "cell_type": "code",
   "execution_count": 5,
   "id": "05c0d2b3",
   "metadata": {},
   "outputs": [
    {
     "name": "stdout",
     "output_type": "stream",
     "text": [
      "<class 'pandas.core.frame.DataFrame'>\n",
      "RangeIndex: 135493 entries, 0 to 135492\n",
      "Data columns (total 11 columns):\n",
      " #   Column                     Non-Null Count   Dtype   \n",
      "---  ------                     --------------   -----   \n",
      " 0   disrict                    135493 non-null  category\n",
      " 1   client_id                  135493 non-null  object  \n",
      " 2   client_catg                135493 non-null  category\n",
      " 3   region                     135493 non-null  category\n",
      " 4   creation_date              135493 non-null  object  \n",
      " 5   target                     135493 non-null  float64 \n",
      " 6   1transactions_count        135493 non-null  int64   \n",
      " 7   consommation_level_1_mean  135493 non-null  float64 \n",
      " 8   consommation_level_2_mean  135493 non-null  float64 \n",
      " 9   consommation_level_3_mean  135493 non-null  float64 \n",
      " 10  consommation_level_4_mean  135493 non-null  float64 \n",
      "dtypes: category(3), float64(5), int64(1), object(2)\n",
      "memory usage: 8.7+ MB\n"
     ]
    }
   ],
   "source": [
    "data.info()"
   ]
  },
  {
   "cell_type": "markdown",
   "id": "f888dafd",
   "metadata": {},
   "source": [
    "I also need to convert the creation date from object to datetime datatype"
   ]
  },
  {
   "cell_type": "code",
   "execution_count": 6,
   "id": "2867121d",
   "metadata": {},
   "outputs": [],
   "source": [
    "data['creation_date'] = pd.to_datetime(data['creation_date'])"
   ]
  },
  {
   "cell_type": "code",
   "execution_count": 7,
   "id": "2f685068",
   "metadata": {
    "scrolled": true
   },
   "outputs": [
    {
     "name": "stdout",
     "output_type": "stream",
     "text": [
      "<class 'pandas.core.frame.DataFrame'>\n",
      "RangeIndex: 135493 entries, 0 to 135492\n",
      "Data columns (total 11 columns):\n",
      " #   Column                     Non-Null Count   Dtype         \n",
      "---  ------                     --------------   -----         \n",
      " 0   disrict                    135493 non-null  category      \n",
      " 1   client_id                  135493 non-null  object        \n",
      " 2   client_catg                135493 non-null  category      \n",
      " 3   region                     135493 non-null  category      \n",
      " 4   creation_date              135493 non-null  datetime64[ns]\n",
      " 5   target                     135493 non-null  float64       \n",
      " 6   1transactions_count        135493 non-null  int64         \n",
      " 7   consommation_level_1_mean  135493 non-null  float64       \n",
      " 8   consommation_level_2_mean  135493 non-null  float64       \n",
      " 9   consommation_level_3_mean  135493 non-null  float64       \n",
      " 10  consommation_level_4_mean  135493 non-null  float64       \n",
      "dtypes: category(3), datetime64[ns](1), float64(5), int64(1), object(1)\n",
      "memory usage: 8.7+ MB\n"
     ]
    }
   ],
   "source": [
    "data.info()"
   ]
  },
  {
   "cell_type": "code",
   "execution_count": null,
   "id": "8059adeb",
   "metadata": {},
   "outputs": [],
   "source": []
  },
  {
   "cell_type": "markdown",
   "id": "d3366cfa",
   "metadata": {},
   "source": [
    "Now i will extract the month date and year in to seperate columns"
   ]
  },
  {
   "cell_type": "code",
   "execution_count": 8,
   "id": "85fb6fed",
   "metadata": {},
   "outputs": [],
   "source": [
    "#to extract year, month, day\n",
    "data['year'] = data['creation_date'].dt.year\n",
    "data['month'] = data['creation_date'].dt.month\n",
    "data['day'] = data['creation_date'].dt.day\n",
    "data['month_name'] = data['creation_date'].dt.month_name()\n"
   ]
  },
  {
   "cell_type": "code",
   "execution_count": 9,
   "id": "e47be0ca",
   "metadata": {},
   "outputs": [],
   "source": [
    "data = data.drop(['client_id','creation_date'], axis=1)"
   ]
  },
  {
   "cell_type": "code",
   "execution_count": 10,
   "id": "f276c0a6",
   "metadata": {
    "scrolled": true
   },
   "outputs": [],
   "source": [
    "data.to_csv('feat_data.csv', index=False)"
   ]
  },
  {
   "cell_type": "markdown",
   "id": "6496e897",
   "metadata": {},
   "source": [
    "# need to deal with the class imbalance in the target variable"
   ]
  },
  {
   "cell_type": "code",
   "execution_count": 11,
   "id": "ec901648",
   "metadata": {},
   "outputs": [],
   "source": [
    "#stratify datasetso the train and test set have the same ratio of each class\n",
    "df_full_train, df_test = train_test_split(data,test_size=0.2,stratify=data['target'], random_state=2022)\n",
    "#df_full_train, df_test = train_test_split(data,test_size=0.2,random_state=2022)"
   ]
  },
  {
   "cell_type": "code",
   "execution_count": 12,
   "id": "91725e92",
   "metadata": {},
   "outputs": [
    {
     "data": {
      "text/html": [
       "<div>\n",
       "<style scoped>\n",
       "    .dataframe tbody tr th:only-of-type {\n",
       "        vertical-align: middle;\n",
       "    }\n",
       "\n",
       "    .dataframe tbody tr th {\n",
       "        vertical-align: top;\n",
       "    }\n",
       "\n",
       "    .dataframe thead th {\n",
       "        text-align: right;\n",
       "    }\n",
       "</style>\n",
       "<table border=\"1\" class=\"dataframe\">\n",
       "  <thead>\n",
       "    <tr style=\"text-align: right;\">\n",
       "      <th></th>\n",
       "      <th>disrict</th>\n",
       "      <th>client_catg</th>\n",
       "      <th>region</th>\n",
       "      <th>target</th>\n",
       "      <th>1transactions_count</th>\n",
       "      <th>consommation_level_1_mean</th>\n",
       "      <th>consommation_level_2_mean</th>\n",
       "      <th>consommation_level_3_mean</th>\n",
       "      <th>consommation_level_4_mean</th>\n",
       "      <th>year</th>\n",
       "      <th>month</th>\n",
       "      <th>day</th>\n",
       "      <th>month_name</th>\n",
       "    </tr>\n",
       "  </thead>\n",
       "  <tbody>\n",
       "    <tr>\n",
       "      <th>112600</th>\n",
       "      <td>60</td>\n",
       "      <td>11</td>\n",
       "      <td>101</td>\n",
       "      <td>0.0</td>\n",
       "      <td>66</td>\n",
       "      <td>603.484848</td>\n",
       "      <td>216.409091</td>\n",
       "      <td>16.257576</td>\n",
       "      <td>0.000000</td>\n",
       "      <td>1986</td>\n",
       "      <td>3</td>\n",
       "      <td>28</td>\n",
       "      <td>March</td>\n",
       "    </tr>\n",
       "    <tr>\n",
       "      <th>68540</th>\n",
       "      <td>69</td>\n",
       "      <td>11</td>\n",
       "      <td>103</td>\n",
       "      <td>0.0</td>\n",
       "      <td>44</td>\n",
       "      <td>198.522727</td>\n",
       "      <td>9.090909</td>\n",
       "      <td>18.181818</td>\n",
       "      <td>48.636364</td>\n",
       "      <td>2011</td>\n",
       "      <td>12</td>\n",
       "      <td>14</td>\n",
       "      <td>December</td>\n",
       "    </tr>\n",
       "    <tr>\n",
       "      <th>134928</th>\n",
       "      <td>69</td>\n",
       "      <td>11</td>\n",
       "      <td>107</td>\n",
       "      <td>0.0</td>\n",
       "      <td>24</td>\n",
       "      <td>248.000000</td>\n",
       "      <td>0.000000</td>\n",
       "      <td>0.000000</td>\n",
       "      <td>0.000000</td>\n",
       "      <td>2014</td>\n",
       "      <td>11</td>\n",
       "      <td>11</td>\n",
       "      <td>November</td>\n",
       "    </tr>\n",
       "    <tr>\n",
       "      <th>4578</th>\n",
       "      <td>69</td>\n",
       "      <td>11</td>\n",
       "      <td>104</td>\n",
       "      <td>0.0</td>\n",
       "      <td>22</td>\n",
       "      <td>538.772727</td>\n",
       "      <td>94.136364</td>\n",
       "      <td>109.090909</td>\n",
       "      <td>66.318182</td>\n",
       "      <td>2011</td>\n",
       "      <td>6</td>\n",
       "      <td>1</td>\n",
       "      <td>June</td>\n",
       "    </tr>\n",
       "    <tr>\n",
       "      <th>126016</th>\n",
       "      <td>60</td>\n",
       "      <td>11</td>\n",
       "      <td>101</td>\n",
       "      <td>0.0</td>\n",
       "      <td>1</td>\n",
       "      <td>35.000000</td>\n",
       "      <td>0.000000</td>\n",
       "      <td>0.000000</td>\n",
       "      <td>0.000000</td>\n",
       "      <td>1996</td>\n",
       "      <td>11</td>\n",
       "      <td>20</td>\n",
       "      <td>November</td>\n",
       "    </tr>\n",
       "    <tr>\n",
       "      <th>...</th>\n",
       "      <td>...</td>\n",
       "      <td>...</td>\n",
       "      <td>...</td>\n",
       "      <td>...</td>\n",
       "      <td>...</td>\n",
       "      <td>...</td>\n",
       "      <td>...</td>\n",
       "      <td>...</td>\n",
       "      <td>...</td>\n",
       "      <td>...</td>\n",
       "      <td>...</td>\n",
       "      <td>...</td>\n",
       "      <td>...</td>\n",
       "    </tr>\n",
       "    <tr>\n",
       "      <th>83782</th>\n",
       "      <td>69</td>\n",
       "      <td>11</td>\n",
       "      <td>104</td>\n",
       "      <td>0.0</td>\n",
       "      <td>12</td>\n",
       "      <td>254.833333</td>\n",
       "      <td>0.000000</td>\n",
       "      <td>0.000000</td>\n",
       "      <td>0.000000</td>\n",
       "      <td>1998</td>\n",
       "      <td>10</td>\n",
       "      <td>20</td>\n",
       "      <td>October</td>\n",
       "    </tr>\n",
       "    <tr>\n",
       "      <th>33445</th>\n",
       "      <td>60</td>\n",
       "      <td>11</td>\n",
       "      <td>101</td>\n",
       "      <td>0.0</td>\n",
       "      <td>57</td>\n",
       "      <td>460.719298</td>\n",
       "      <td>98.859649</td>\n",
       "      <td>0.000000</td>\n",
       "      <td>0.000000</td>\n",
       "      <td>1985</td>\n",
       "      <td>6</td>\n",
       "      <td>3</td>\n",
       "      <td>June</td>\n",
       "    </tr>\n",
       "    <tr>\n",
       "      <th>28155</th>\n",
       "      <td>62</td>\n",
       "      <td>11</td>\n",
       "      <td>301</td>\n",
       "      <td>0.0</td>\n",
       "      <td>16</td>\n",
       "      <td>424.937500</td>\n",
       "      <td>15.312500</td>\n",
       "      <td>0.000000</td>\n",
       "      <td>0.000000</td>\n",
       "      <td>1999</td>\n",
       "      <td>3</td>\n",
       "      <td>19</td>\n",
       "      <td>March</td>\n",
       "    </tr>\n",
       "    <tr>\n",
       "      <th>98974</th>\n",
       "      <td>60</td>\n",
       "      <td>11</td>\n",
       "      <td>101</td>\n",
       "      <td>0.0</td>\n",
       "      <td>51</td>\n",
       "      <td>361.862745</td>\n",
       "      <td>0.000000</td>\n",
       "      <td>0.000000</td>\n",
       "      <td>0.000000</td>\n",
       "      <td>2010</td>\n",
       "      <td>4</td>\n",
       "      <td>13</td>\n",
       "      <td>April</td>\n",
       "    </tr>\n",
       "    <tr>\n",
       "      <th>46026</th>\n",
       "      <td>63</td>\n",
       "      <td>11</td>\n",
       "      <td>306</td>\n",
       "      <td>0.0</td>\n",
       "      <td>52</td>\n",
       "      <td>272.634615</td>\n",
       "      <td>0.000000</td>\n",
       "      <td>0.000000</td>\n",
       "      <td>0.000000</td>\n",
       "      <td>1994</td>\n",
       "      <td>6</td>\n",
       "      <td>30</td>\n",
       "      <td>June</td>\n",
       "    </tr>\n",
       "  </tbody>\n",
       "</table>\n",
       "<p>108394 rows × 13 columns</p>\n",
       "</div>"
      ],
      "text/plain": [
       "       disrict client_catg region  target  1transactions_count  \\\n",
       "112600      60          11    101     0.0                   66   \n",
       "68540       69          11    103     0.0                   44   \n",
       "134928      69          11    107     0.0                   24   \n",
       "4578        69          11    104     0.0                   22   \n",
       "126016      60          11    101     0.0                    1   \n",
       "...        ...         ...    ...     ...                  ...   \n",
       "83782       69          11    104     0.0                   12   \n",
       "33445       60          11    101     0.0                   57   \n",
       "28155       62          11    301     0.0                   16   \n",
       "98974       60          11    101     0.0                   51   \n",
       "46026       63          11    306     0.0                   52   \n",
       "\n",
       "        consommation_level_1_mean  consommation_level_2_mean  \\\n",
       "112600                 603.484848                 216.409091   \n",
       "68540                  198.522727                   9.090909   \n",
       "134928                 248.000000                   0.000000   \n",
       "4578                   538.772727                  94.136364   \n",
       "126016                  35.000000                   0.000000   \n",
       "...                           ...                        ...   \n",
       "83782                  254.833333                   0.000000   \n",
       "33445                  460.719298                  98.859649   \n",
       "28155                  424.937500                  15.312500   \n",
       "98974                  361.862745                   0.000000   \n",
       "46026                  272.634615                   0.000000   \n",
       "\n",
       "        consommation_level_3_mean  consommation_level_4_mean  year  month  \\\n",
       "112600                  16.257576                   0.000000  1986      3   \n",
       "68540                   18.181818                  48.636364  2011     12   \n",
       "134928                   0.000000                   0.000000  2014     11   \n",
       "4578                   109.090909                  66.318182  2011      6   \n",
       "126016                   0.000000                   0.000000  1996     11   \n",
       "...                           ...                        ...   ...    ...   \n",
       "83782                    0.000000                   0.000000  1998     10   \n",
       "33445                    0.000000                   0.000000  1985      6   \n",
       "28155                    0.000000                   0.000000  1999      3   \n",
       "98974                    0.000000                   0.000000  2010      4   \n",
       "46026                    0.000000                   0.000000  1994      6   \n",
       "\n",
       "        day month_name  \n",
       "112600   28      March  \n",
       "68540    14   December  \n",
       "134928   11   November  \n",
       "4578      1       June  \n",
       "126016   20   November  \n",
       "...     ...        ...  \n",
       "83782    20    October  \n",
       "33445     3       June  \n",
       "28155    19      March  \n",
       "98974    13      April  \n",
       "46026    30       June  \n",
       "\n",
       "[108394 rows x 13 columns]"
      ]
     },
     "execution_count": 12,
     "metadata": {},
     "output_type": "execute_result"
    }
   ],
   "source": [
    "df_full_train"
   ]
  },
  {
   "cell_type": "code",
   "execution_count": 13,
   "id": "69d8c3c7",
   "metadata": {},
   "outputs": [],
   "source": [
    "df_train, df_val = train_test_split(df_full_train,test_size=0.25, stratify=df_full_train['target'], random_state=2022)\n",
    "#df_train, df_val = train_test_split(df_full_train,test_size=0.25, random_state=2022)"
   ]
  },
  {
   "cell_type": "code",
   "execution_count": 14,
   "id": "8d525c02",
   "metadata": {},
   "outputs": [],
   "source": [
    "df_train = df_train.reset_index(drop=True)\n",
    "df_val = df_val.reset_index(drop=True)\n",
    "df_test = df_test.reset_index(drop=True)"
   ]
  },
  {
   "cell_type": "code",
   "execution_count": 15,
   "id": "ba150ef1",
   "metadata": {},
   "outputs": [],
   "source": [
    "y_train = df_train.target.values\n",
    "y_val = df_val.target.values\n",
    "y_test = df_test.target.values"
   ]
  },
  {
   "cell_type": "code",
   "execution_count": 16,
   "id": "0ec62e59",
   "metadata": {},
   "outputs": [],
   "source": [
    "del df_train['target']\n",
    "del df_val['target']\n",
    "del df_test['target']"
   ]
  },
  {
   "cell_type": "markdown",
   "id": "f5709de7",
   "metadata": {},
   "source": [
    "# One-hot encoding\n",
    "- Use scikit-Learn to encode categorical features"
   ]
  },
  {
   "cell_type": "code",
   "execution_count": 18,
   "id": "55d14d1d",
   "metadata": {},
   "outputs": [],
   "source": [
    "from sklearn.feature_extraction import DictVectorizer"
   ]
  },
  {
   "cell_type": "code",
   "execution_count": 19,
   "id": "01efa78f",
   "metadata": {},
   "outputs": [],
   "source": [
    "dv = DictVectorizer(sparse=False)"
   ]
  },
  {
   "cell_type": "code",
   "execution_count": 20,
   "id": "4a647ecc",
   "metadata": {},
   "outputs": [],
   "source": [
    "train_dicts = df_train.to_dict(orient='records')\n",
    "X_train = dv.fit_transform(train_dicts)"
   ]
  },
  {
   "cell_type": "code",
   "execution_count": 21,
   "id": "c97ba6eb",
   "metadata": {},
   "outputs": [],
   "source": [
    "val_dicts = df_val.to_dict(orient='records')\n",
    "X_val = dv.transform(val_dicts)"
   ]
  },
  {
   "cell_type": "code",
   "execution_count": null,
   "id": "5950abdc",
   "metadata": {},
   "outputs": [],
   "source": []
  },
  {
   "cell_type": "code",
   "execution_count": 22,
   "id": "17cd92ea",
   "metadata": {},
   "outputs": [],
   "source": [
    "from imblearn.over_sampling import SMOTE"
   ]
  },
  {
   "cell_type": "code",
   "execution_count": 23,
   "id": "daaea036",
   "metadata": {
    "scrolled": true
   },
   "outputs": [
    {
     "name": "stdout",
     "output_type": "stream",
     "text": [
      "Before Counter({0.0: 76755, 1.0: 4540})\n",
      "After Counter({0.0: 76755, 1.0: 76755})\n"
     ]
    }
   ],
   "source": [
    "import collections\n",
    "counter = collections.Counter(y_train)\n",
    "print('Before', counter)\n",
    "#oversampling the train dataset using SMOTE\n",
    "smt = SMOTE()\n",
    "df_train_sm,y_train_sm = smt.fit_resample(X_train, y_train)\n",
    "\n",
    "counter = collections.Counter(y_train_sm)\n",
    "print('After', counter)"
   ]
  },
  {
   "cell_type": "markdown",
   "id": "f39012a7",
   "metadata": {},
   "source": [
    "# Base Model"
   ]
  },
  {
   "cell_type": "code",
   "execution_count": 24,
   "id": "f14d54e6",
   "metadata": {},
   "outputs": [],
   "source": [
    "from sklearn.linear_model import LogisticRegression"
   ]
  },
  {
   "cell_type": "code",
   "execution_count": 25,
   "id": "283970f9",
   "metadata": {},
   "outputs": [],
   "source": [
    "model = LogisticRegression()"
   ]
  },
  {
   "cell_type": "code",
   "execution_count": 26,
   "id": "5915334c",
   "metadata": {},
   "outputs": [
    {
     "name": "stderr",
     "output_type": "stream",
     "text": [
      "C:\\Users\\user\\anaconda3\\lib\\site-packages\\sklearn\\linear_model\\_logistic.py:763: ConvergenceWarning: lbfgs failed to converge (status=1):\n",
      "STOP: TOTAL NO. of ITERATIONS REACHED LIMIT.\n",
      "\n",
      "Increase the number of iterations (max_iter) or scale the data as shown in:\n",
      "    https://scikit-learn.org/stable/modules/preprocessing.html\n",
      "Please also refer to the documentation for alternative solver options:\n",
      "    https://scikit-learn.org/stable/modules/linear_model.html#logistic-regression\n",
      "  n_iter_i = _check_optimize_result(\n"
     ]
    },
    {
     "data": {
      "text/plain": [
       "LogisticRegression()"
      ]
     },
     "execution_count": 26,
     "metadata": {},
     "output_type": "execute_result"
    }
   ],
   "source": [
    "model.fit(X_train, y_train)"
   ]
  },
  {
   "cell_type": "code",
   "execution_count": 27,
   "id": "fe01aed9",
   "metadata": {},
   "outputs": [],
   "source": [
    "y_pred = model.predict_proba(X_val)[:,1]"
   ]
  },
  {
   "cell_type": "code",
   "execution_count": 28,
   "id": "8b501e06",
   "metadata": {
    "scrolled": true
   },
   "outputs": [
    {
     "data": {
      "text/plain": [
       "0.690537760524502"
      ]
     },
     "execution_count": 28,
     "metadata": {},
     "output_type": "execute_result"
    }
   ],
   "source": [
    "roc_auc_score(y_val, y_pred)"
   ]
  },
  {
   "cell_type": "markdown",
   "id": "221b8c16",
   "metadata": {},
   "source": [
    "# Decision tree"
   ]
  },
  {
   "cell_type": "code",
   "execution_count": 32,
   "id": "9c46b841",
   "metadata": {},
   "outputs": [],
   "source": [
    "from sklearn.tree import DecisionTreeClassifier"
   ]
  },
  {
   "cell_type": "code",
   "execution_count": 33,
   "id": "075e45ba",
   "metadata": {},
   "outputs": [
    {
     "data": {
      "text/plain": [
       "DecisionTreeClassifier(random_state=2022)"
      ]
     },
     "execution_count": 33,
     "metadata": {},
     "output_type": "execute_result"
    }
   ],
   "source": [
    "dt = DecisionTreeClassifier(random_state=2022)\n",
    "dt.fit(X_train, y_train)"
   ]
  },
  {
   "cell_type": "code",
   "execution_count": 34,
   "id": "00b36cf3",
   "metadata": {},
   "outputs": [
    {
     "data": {
      "text/plain": [
       "0.5444920178743239"
      ]
     },
     "execution_count": 34,
     "metadata": {},
     "output_type": "execute_result"
    }
   ],
   "source": [
    "y_pred = dt.predict_proba(X_val)[:,1]\n",
    "roc_auc_score(y_val, y_pred)"
   ]
  },
  {
   "cell_type": "markdown",
   "id": "ca892d91",
   "metadata": {},
   "source": [
    "# Tuning decision tree"
   ]
  },
  {
   "cell_type": "code",
   "execution_count": 35,
   "id": "c51a6e0c",
   "metadata": {},
   "outputs": [
    {
     "name": "stdout",
     "output_type": "stream",
     "text": [
      "   1 -> 0.618\n",
      "   2 -> 0.678\n",
      "   3 -> 0.702\n",
      "   4 -> 0.720\n",
      "   5 -> 0.728\n",
      "   6 -> 0.730\n",
      "  10 -> 0.714\n",
      "  15 -> 0.623\n",
      "  20 -> 0.563\n",
      "None -> 0.547\n"
     ]
    }
   ],
   "source": [
    "for d in [1,2,3,4,5,6,10,15,20,None]:\n",
    "    \n",
    "    dt = DecisionTreeClassifier(max_depth=d)\n",
    "    dt.fit(X_train, y_train)\n",
    "    \n",
    "    y_pred = dt.predict_proba(X_val)[:,1]\n",
    "    auc = roc_auc_score(y_val, y_pred)\n",
    "    \n",
    "    print('%4s -> %.3f'% (d, auc))\n",
    "    \n",
    "# parameters = {'max_depth' : [1,2,3,4,5,6,10,15,20,None],\n",
    "#               'min_samples_leaf' : [1,2,5,10,15,20,100,200,500]           \n",
    "#               }\n",
    "\n",
    "\n",
    "# dt_v2 = GridSearchCV(dt, parameters, cv=10, n_jobs=-1)\n",
    "\n",
    "\n",
    "# dt_v2.fit(X_train, y_train)\n",
    "\n",
    "# print('Best Paraneters', dt_v2.best_params_)\n",
    "\n",
    "# y_pred_ = dt_v2.best_estimator_.predict_proba(X_val)[:,1]\n",
    "\n",
    "# auc = roc_auc_score(y_val, y_pred_)\n",
    "# #rmse= np.sqrt(mean_squared_error(y_val,y_pred_))\n",
    "# print(f\"Best auc score: {auc.round(3)}\")"
   ]
  },
  {
   "cell_type": "code",
   "execution_count": 36,
   "id": "58cc66ba",
   "metadata": {},
   "outputs": [],
   "source": [
    "scores = []\n",
    "\n",
    "for d in [4,5,6]:\n",
    "    for s in [1,2,5,10,15,20,100,200,500]:\n",
    "        dt = DecisionTreeClassifier(max_depth=d)\n",
    "        dt.fit(X_train, y_train)\n",
    "\n",
    "        y_pred = dt.predict_proba(X_val)[:,1]\n",
    "        auc = roc_auc_score(y_val, y_pred)\n",
    "\n",
    "        scores.append((d,s,auc))"
   ]
  },
  {
   "cell_type": "code",
   "execution_count": 37,
   "id": "342ad586",
   "metadata": {},
   "outputs": [
    {
     "data": {
      "text/html": [
       "<div>\n",
       "<style scoped>\n",
       "    .dataframe tbody tr th:only-of-type {\n",
       "        vertical-align: middle;\n",
       "    }\n",
       "\n",
       "    .dataframe tbody tr th {\n",
       "        vertical-align: top;\n",
       "    }\n",
       "\n",
       "    .dataframe thead th {\n",
       "        text-align: right;\n",
       "    }\n",
       "</style>\n",
       "<table border=\"1\" class=\"dataframe\">\n",
       "  <thead>\n",
       "    <tr style=\"text-align: right;\">\n",
       "      <th></th>\n",
       "      <th>max_depth</th>\n",
       "      <th>min_sample_leaf</th>\n",
       "      <th>auc</th>\n",
       "    </tr>\n",
       "  </thead>\n",
       "  <tbody>\n",
       "    <tr>\n",
       "      <th>0</th>\n",
       "      <td>4</td>\n",
       "      <td>1</td>\n",
       "      <td>0.719541</td>\n",
       "    </tr>\n",
       "    <tr>\n",
       "      <th>1</th>\n",
       "      <td>4</td>\n",
       "      <td>2</td>\n",
       "      <td>0.719541</td>\n",
       "    </tr>\n",
       "    <tr>\n",
       "      <th>2</th>\n",
       "      <td>4</td>\n",
       "      <td>5</td>\n",
       "      <td>0.719541</td>\n",
       "    </tr>\n",
       "    <tr>\n",
       "      <th>3</th>\n",
       "      <td>4</td>\n",
       "      <td>10</td>\n",
       "      <td>0.719541</td>\n",
       "    </tr>\n",
       "    <tr>\n",
       "      <th>4</th>\n",
       "      <td>4</td>\n",
       "      <td>15</td>\n",
       "      <td>0.719541</td>\n",
       "    </tr>\n",
       "  </tbody>\n",
       "</table>\n",
       "</div>"
      ],
      "text/plain": [
       "   max_depth  min_sample_leaf       auc\n",
       "0          4                1  0.719541\n",
       "1          4                2  0.719541\n",
       "2          4                5  0.719541\n",
       "3          4               10  0.719541\n",
       "4          4               15  0.719541"
      ]
     },
     "execution_count": 37,
     "metadata": {},
     "output_type": "execute_result"
    }
   ],
   "source": [
    "columns = ['max_depth','min_sample_leaf','auc']\n",
    "df_scores = pd.DataFrame(scores, columns = columns)\n",
    "df_scores.head()"
   ]
  },
  {
   "cell_type": "code",
   "execution_count": 38,
   "id": "a8446e43",
   "metadata": {},
   "outputs": [
    {
     "data": {
      "text/html": [
       "<div>\n",
       "<style scoped>\n",
       "    .dataframe tbody tr th:only-of-type {\n",
       "        vertical-align: middle;\n",
       "    }\n",
       "\n",
       "    .dataframe tbody tr th {\n",
       "        vertical-align: top;\n",
       "    }\n",
       "\n",
       "    .dataframe thead th {\n",
       "        text-align: right;\n",
       "    }\n",
       "</style>\n",
       "<table border=\"1\" class=\"dataframe\">\n",
       "  <thead>\n",
       "    <tr style=\"text-align: right;\">\n",
       "      <th></th>\n",
       "      <th>max_depth</th>\n",
       "      <th>min_sample_leaf</th>\n",
       "      <th>auc</th>\n",
       "    </tr>\n",
       "  </thead>\n",
       "  <tbody>\n",
       "    <tr>\n",
       "      <th>26</th>\n",
       "      <td>6</td>\n",
       "      <td>500</td>\n",
       "      <td>0.730193</td>\n",
       "    </tr>\n",
       "    <tr>\n",
       "      <th>21</th>\n",
       "      <td>6</td>\n",
       "      <td>10</td>\n",
       "      <td>0.730193</td>\n",
       "    </tr>\n",
       "    <tr>\n",
       "      <th>19</th>\n",
       "      <td>6</td>\n",
       "      <td>2</td>\n",
       "      <td>0.730193</td>\n",
       "    </tr>\n",
       "    <tr>\n",
       "      <th>25</th>\n",
       "      <td>6</td>\n",
       "      <td>200</td>\n",
       "      <td>0.730192</td>\n",
       "    </tr>\n",
       "    <tr>\n",
       "      <th>24</th>\n",
       "      <td>6</td>\n",
       "      <td>100</td>\n",
       "      <td>0.730192</td>\n",
       "    </tr>\n",
       "  </tbody>\n",
       "</table>\n",
       "</div>"
      ],
      "text/plain": [
       "    max_depth  min_sample_leaf       auc\n",
       "26          6              500  0.730193\n",
       "21          6               10  0.730193\n",
       "19          6                2  0.730193\n",
       "25          6              200  0.730192\n",
       "24          6              100  0.730192"
      ]
     },
     "execution_count": 38,
     "metadata": {},
     "output_type": "execute_result"
    }
   ],
   "source": [
    "df_scores.sort_values(by='auc', ascending =False).head()"
   ]
  },
  {
   "cell_type": "code",
   "execution_count": 39,
   "id": "10b86c0f",
   "metadata": {},
   "outputs": [
    {
     "data": {
      "text/plain": [
       "DecisionTreeClassifier(max_depth=6, min_samples_leaf=5)"
      ]
     },
     "execution_count": 39,
     "metadata": {},
     "output_type": "execute_result"
    }
   ],
   "source": [
    "dt = DecisionTreeClassifier(max_depth=6, min_samples_leaf=5)\n",
    "dt.fit(X_train, y_train)"
   ]
  },
  {
   "cell_type": "code",
   "execution_count": 40,
   "id": "c6a7f597",
   "metadata": {},
   "outputs": [
    {
     "data": {
      "text/plain": [
       "0.7311938240349447"
      ]
     },
     "execution_count": 40,
     "metadata": {},
     "output_type": "execute_result"
    }
   ],
   "source": [
    "y_pred = dt.predict_proba(X_val)[:,1]\n",
    "roc_auc_score(y_val, y_pred)"
   ]
  },
  {
   "cell_type": "code",
   "execution_count": 41,
   "id": "c4797c33",
   "metadata": {},
   "outputs": [],
   "source": [
    "from sklearn.ensemble import RandomForestClassifier"
   ]
  },
  {
   "cell_type": "code",
   "execution_count": 42,
   "id": "d98f091d",
   "metadata": {},
   "outputs": [
    {
     "data": {
      "text/plain": [
       "RandomForestClassifier(n_estimators=10, random_state=1)"
      ]
     },
     "execution_count": 42,
     "metadata": {},
     "output_type": "execute_result"
    }
   ],
   "source": [
    "rf = RandomForestClassifier(n_estimators=10, random_state =1)\n",
    "rf.fit(X_train,y_train)"
   ]
  },
  {
   "cell_type": "code",
   "execution_count": 43,
   "id": "0e7bf2f8",
   "metadata": {
    "scrolled": true
   },
   "outputs": [
    {
     "data": {
      "text/plain": [
       "0.6488266261565198"
      ]
     },
     "execution_count": 43,
     "metadata": {},
     "output_type": "execute_result"
    }
   ],
   "source": [
    "y_pred = rf.predict_proba(X_val)[:,1]\n",
    "roc_auc_score(y_val, y_pred)"
   ]
  },
  {
   "cell_type": "markdown",
   "id": "fe5de42e",
   "metadata": {},
   "source": [
    "# Tuning Random Forest"
   ]
  },
  {
   "cell_type": "code",
   "execution_count": 44,
   "id": "04fe9233",
   "metadata": {},
   "outputs": [],
   "source": [
    "scores = []\n",
    "\n",
    "for n in range(10,201, 10):\n",
    "    rf = RandomForestClassifier(n_estimators=n, random_state =1)\n",
    "    rf.fit(X_train,y_train)\n",
    "    \n",
    "    y_pred = rf.predict_proba(X_val)[:,1]\n",
    "    auc = roc_auc_score(y_val, y_pred)\n",
    "    scores.append((n, auc))"
   ]
  },
  {
   "cell_type": "code",
   "execution_count": 45,
   "id": "c9c9266f",
   "metadata": {},
   "outputs": [
    {
     "data": {
      "text/html": [
       "<div>\n",
       "<style scoped>\n",
       "    .dataframe tbody tr th:only-of-type {\n",
       "        vertical-align: middle;\n",
       "    }\n",
       "\n",
       "    .dataframe tbody tr th {\n",
       "        vertical-align: top;\n",
       "    }\n",
       "\n",
       "    .dataframe thead th {\n",
       "        text-align: right;\n",
       "    }\n",
       "</style>\n",
       "<table border=\"1\" class=\"dataframe\">\n",
       "  <thead>\n",
       "    <tr style=\"text-align: right;\">\n",
       "      <th></th>\n",
       "      <th>n_estimators</th>\n",
       "      <th>auc</th>\n",
       "    </tr>\n",
       "  </thead>\n",
       "  <tbody>\n",
       "    <tr>\n",
       "      <th>0</th>\n",
       "      <td>10</td>\n",
       "      <td>0.648827</td>\n",
       "    </tr>\n",
       "    <tr>\n",
       "      <th>1</th>\n",
       "      <td>20</td>\n",
       "      <td>0.686618</td>\n",
       "    </tr>\n",
       "    <tr>\n",
       "      <th>2</th>\n",
       "      <td>30</td>\n",
       "      <td>0.699169</td>\n",
       "    </tr>\n",
       "    <tr>\n",
       "      <th>3</th>\n",
       "      <td>40</td>\n",
       "      <td>0.705347</td>\n",
       "    </tr>\n",
       "    <tr>\n",
       "      <th>4</th>\n",
       "      <td>50</td>\n",
       "      <td>0.710968</td>\n",
       "    </tr>\n",
       "    <tr>\n",
       "      <th>5</th>\n",
       "      <td>60</td>\n",
       "      <td>0.716544</td>\n",
       "    </tr>\n",
       "    <tr>\n",
       "      <th>6</th>\n",
       "      <td>70</td>\n",
       "      <td>0.719340</td>\n",
       "    </tr>\n",
       "    <tr>\n",
       "      <th>7</th>\n",
       "      <td>80</td>\n",
       "      <td>0.721208</td>\n",
       "    </tr>\n",
       "    <tr>\n",
       "      <th>8</th>\n",
       "      <td>90</td>\n",
       "      <td>0.725243</td>\n",
       "    </tr>\n",
       "    <tr>\n",
       "      <th>9</th>\n",
       "      <td>100</td>\n",
       "      <td>0.725691</td>\n",
       "    </tr>\n",
       "    <tr>\n",
       "      <th>10</th>\n",
       "      <td>110</td>\n",
       "      <td>0.727406</td>\n",
       "    </tr>\n",
       "    <tr>\n",
       "      <th>11</th>\n",
       "      <td>120</td>\n",
       "      <td>0.727713</td>\n",
       "    </tr>\n",
       "    <tr>\n",
       "      <th>12</th>\n",
       "      <td>130</td>\n",
       "      <td>0.729291</td>\n",
       "    </tr>\n",
       "    <tr>\n",
       "      <th>13</th>\n",
       "      <td>140</td>\n",
       "      <td>0.730412</td>\n",
       "    </tr>\n",
       "    <tr>\n",
       "      <th>14</th>\n",
       "      <td>150</td>\n",
       "      <td>0.731462</td>\n",
       "    </tr>\n",
       "    <tr>\n",
       "      <th>15</th>\n",
       "      <td>160</td>\n",
       "      <td>0.732110</td>\n",
       "    </tr>\n",
       "    <tr>\n",
       "      <th>16</th>\n",
       "      <td>170</td>\n",
       "      <td>0.732505</td>\n",
       "    </tr>\n",
       "    <tr>\n",
       "      <th>17</th>\n",
       "      <td>180</td>\n",
       "      <td>0.732978</td>\n",
       "    </tr>\n",
       "    <tr>\n",
       "      <th>18</th>\n",
       "      <td>190</td>\n",
       "      <td>0.732653</td>\n",
       "    </tr>\n",
       "    <tr>\n",
       "      <th>19</th>\n",
       "      <td>200</td>\n",
       "      <td>0.733780</td>\n",
       "    </tr>\n",
       "  </tbody>\n",
       "</table>\n",
       "</div>"
      ],
      "text/plain": [
       "    n_estimators       auc\n",
       "0             10  0.648827\n",
       "1             20  0.686618\n",
       "2             30  0.699169\n",
       "3             40  0.705347\n",
       "4             50  0.710968\n",
       "5             60  0.716544\n",
       "6             70  0.719340\n",
       "7             80  0.721208\n",
       "8             90  0.725243\n",
       "9            100  0.725691\n",
       "10           110  0.727406\n",
       "11           120  0.727713\n",
       "12           130  0.729291\n",
       "13           140  0.730412\n",
       "14           150  0.731462\n",
       "15           160  0.732110\n",
       "16           170  0.732505\n",
       "17           180  0.732978\n",
       "18           190  0.732653\n",
       "19           200  0.733780"
      ]
     },
     "execution_count": 45,
     "metadata": {},
     "output_type": "execute_result"
    }
   ],
   "source": [
    "df_scores = pd.DataFrame(scores, columns = ['n_estimators','auc'])\n",
    "df_scores"
   ]
  },
  {
   "cell_type": "code",
   "execution_count": 46,
   "id": "17e966e8",
   "metadata": {},
   "outputs": [
    {
     "data": {
      "text/plain": [
       "[<matplotlib.lines.Line2D at 0x215835d9cd0>]"
      ]
     },
     "execution_count": 46,
     "metadata": {},
     "output_type": "execute_result"
    },
    {
     "data": {
      "image/png": "[encoded data removed]",
      "text/plain": [
       "<Figure size 432x288 with 1 Axes>"
      ]
     },
     "metadata": {
      "needs_background": "light"
     },
     "output_type": "display_data"
    }
   ],
   "source": [
    " plt.plot(df_scores.n_estimators, df_scores.auc)"
   ]
  },
  {
   "cell_type": "code",
   "execution_count": 47,
   "id": "d37009a1",
   "metadata": {},
   "outputs": [],
   "source": [
    "scores = []\n",
    "\n",
    "for d in [5,10,15]:\n",
    "    for n in range(10,201, 10):\n",
    "        rf = RandomForestClassifier(n_estimators=n,\n",
    "                                    max_depth = d,\n",
    "                                    random_state =1)\n",
    "        rf.fit(X_train,y_train)\n",
    "\n",
    "        y_pred = rf.predict_proba(X_val)[:,1]\n",
    "        auc = roc_auc_score(y_val, y_pred)\n",
    "        scores.append((d, n, auc))"
   ]
  },
  {
   "cell_type": "code",
   "execution_count": 56,
   "id": "12ccf7b5",
   "metadata": {},
   "outputs": [
    {
     "data": {
      "text/html": [
       "<div>\n",
       "<style scoped>\n",
       "    .dataframe tbody tr th:only-of-type {\n",
       "        vertical-align: middle;\n",
       "    }\n",
       "\n",
       "    .dataframe tbody tr th {\n",
       "        vertical-align: top;\n",
       "    }\n",
       "\n",
       "    .dataframe thead th {\n",
       "        text-align: right;\n",
       "    }\n",
       "</style>\n",
       "<table border=\"1\" class=\"dataframe\">\n",
       "  <thead>\n",
       "    <tr style=\"text-align: right;\">\n",
       "      <th></th>\n",
       "      <th>max_depth</th>\n",
       "      <th>n_estimators</th>\n",
       "      <th>auc</th>\n",
       "    </tr>\n",
       "  </thead>\n",
       "  <tbody>\n",
       "    <tr>\n",
       "      <th>39</th>\n",
       "      <td>3</td>\n",
       "      <td>200</td>\n",
       "      <td>0.754475</td>\n",
       "    </tr>\n",
       "    <tr>\n",
       "      <th>71</th>\n",
       "      <td>10</td>\n",
       "      <td>120</td>\n",
       "      <td>0.754421</td>\n",
       "    </tr>\n",
       "    <tr>\n",
       "      <th>70</th>\n",
       "      <td>10</td>\n",
       "      <td>110</td>\n",
       "      <td>0.754358</td>\n",
       "    </tr>\n",
       "    <tr>\n",
       "      <th>72</th>\n",
       "      <td>10</td>\n",
       "      <td>130</td>\n",
       "      <td>0.754279</td>\n",
       "    </tr>\n",
       "    <tr>\n",
       "      <th>38</th>\n",
       "      <td>3</td>\n",
       "      <td>190</td>\n",
       "      <td>0.754274</td>\n",
       "    </tr>\n",
       "    <tr>\n",
       "      <th>...</th>\n",
       "      <td>...</td>\n",
       "      <td>...</td>\n",
       "      <td>...</td>\n",
       "    </tr>\n",
       "    <tr>\n",
       "      <th>60</th>\n",
       "      <td>10</td>\n",
       "      <td>10</td>\n",
       "      <td>0.745351</td>\n",
       "    </tr>\n",
       "    <tr>\n",
       "      <th>1</th>\n",
       "      <td>1</td>\n",
       "      <td>20</td>\n",
       "      <td>0.745101</td>\n",
       "    </tr>\n",
       "    <tr>\n",
       "      <th>0</th>\n",
       "      <td>1</td>\n",
       "      <td>10</td>\n",
       "      <td>0.743983</td>\n",
       "    </tr>\n",
       "    <tr>\n",
       "      <th>20</th>\n",
       "      <td>3</td>\n",
       "      <td>10</td>\n",
       "      <td>0.743837</td>\n",
       "    </tr>\n",
       "    <tr>\n",
       "      <th>40</th>\n",
       "      <td>5</td>\n",
       "      <td>10</td>\n",
       "      <td>0.743262</td>\n",
       "    </tr>\n",
       "  </tbody>\n",
       "</table>\n",
       "<p>120 rows × 3 columns</p>\n",
       "</div>"
      ],
      "text/plain": [
       "    max_depth  n_estimators       auc\n",
       "39          3           200  0.754475\n",
       "71         10           120  0.754421\n",
       "70         10           110  0.754358\n",
       "72         10           130  0.754279\n",
       "38          3           190  0.754274\n",
       "..        ...           ...       ...\n",
       "60         10            10  0.745351\n",
       "1           1            20  0.745101\n",
       "0           1            10  0.743983\n",
       "20          3            10  0.743837\n",
       "40          5            10  0.743262\n",
       "\n",
       "[120 rows x 3 columns]"
      ]
     },
     "execution_count": 56,
     "metadata": {},
     "output_type": "execute_result"
    }
   ],
   "source": [
    "columns =  ['max_depth', 'n_estimators','auc']\n",
    "df_scores = pd.DataFrame(scores, columns =columns)\n",
    "df_scores.sort_values(by='auc',ascending=False)"
   ]
  },
  {
   "cell_type": "code",
   "execution_count": 57,
   "id": "57b8b482",
   "metadata": {},
   "outputs": [
    {
     "data": {
      "text/plain": [
       "<matplotlib.legend.Legend at 0x21583604fd0>"
      ]
     },
     "execution_count": 57,
     "metadata": {},
     "output_type": "execute_result"
    },
    {
     "data": {
      "image/png": "[encoded data removed]",
      "text/plain": [
       "<Figure size 432x288 with 1 Axes>"
      ]
     },
     "metadata": {
      "needs_background": "light"
     },
     "output_type": "display_data"
    }
   ],
   "source": [
    "for d in [3,5,10,15]:\n",
    "    df_subset = df_scores[df_scores.max_depth ==d]\n",
    "    plt.plot(df_subset.n_estimators,\n",
    "             df_subset.auc,\n",
    "             label = 'max_depth = %d' % d)\n",
    "plt.legend()"
   ]
  },
  {
   "cell_type": "code",
   "execution_count": 58,
   "id": "c15cdfc7",
   "metadata": {},
   "outputs": [],
   "source": [
    "max_depth = 3"
   ]
  },
  {
   "cell_type": "code",
   "execution_count": 51,
   "id": "2ffd7049",
   "metadata": {},
   "outputs": [],
   "source": [
    "scores = []\n",
    "\n",
    "for s in [1,3,5,10,15, 50]:\n",
    "    for n in range(10,201, 10):\n",
    "        rf = RandomForestClassifier(n_estimators=n,\n",
    "                                    max_depth = max_depth,\n",
    "                                    min_samples_leaf=s,\n",
    "                                    random_state =1)\n",
    "        rf.fit(X_train,y_train)\n",
    "\n",
    "        y_pred = rf.predict_proba(X_val)[:,1]\n",
    "        auc = roc_auc_score(y_val, y_pred)\n",
    "        scores.append((s, n, auc))"
   ]
  },
  {
   "cell_type": "code",
   "execution_count": 59,
   "id": "5de6939e",
   "metadata": {},
   "outputs": [
    {
     "data": {
      "text/html": [
       "<div>\n",
       "<style scoped>\n",
       "    .dataframe tbody tr th:only-of-type {\n",
       "        vertical-align: middle;\n",
       "    }\n",
       "\n",
       "    .dataframe tbody tr th {\n",
       "        vertical-align: top;\n",
       "    }\n",
       "\n",
       "    .dataframe thead th {\n",
       "        text-align: right;\n",
       "    }\n",
       "</style>\n",
       "<table border=\"1\" class=\"dataframe\">\n",
       "  <thead>\n",
       "    <tr style=\"text-align: right;\">\n",
       "      <th></th>\n",
       "      <th>min_samples_leaf</th>\n",
       "      <th>n_estimators</th>\n",
       "      <th>auc</th>\n",
       "    </tr>\n",
       "  </thead>\n",
       "  <tbody>\n",
       "    <tr>\n",
       "      <th>39</th>\n",
       "      <td>3</td>\n",
       "      <td>200</td>\n",
       "      <td>0.754475</td>\n",
       "    </tr>\n",
       "    <tr>\n",
       "      <th>71</th>\n",
       "      <td>10</td>\n",
       "      <td>120</td>\n",
       "      <td>0.754421</td>\n",
       "    </tr>\n",
       "    <tr>\n",
       "      <th>70</th>\n",
       "      <td>10</td>\n",
       "      <td>110</td>\n",
       "      <td>0.754358</td>\n",
       "    </tr>\n",
       "    <tr>\n",
       "      <th>72</th>\n",
       "      <td>10</td>\n",
       "      <td>130</td>\n",
       "      <td>0.754279</td>\n",
       "    </tr>\n",
       "    <tr>\n",
       "      <th>38</th>\n",
       "      <td>3</td>\n",
       "      <td>190</td>\n",
       "      <td>0.754274</td>\n",
       "    </tr>\n",
       "    <tr>\n",
       "      <th>...</th>\n",
       "      <td>...</td>\n",
       "      <td>...</td>\n",
       "      <td>...</td>\n",
       "    </tr>\n",
       "    <tr>\n",
       "      <th>60</th>\n",
       "      <td>10</td>\n",
       "      <td>10</td>\n",
       "      <td>0.745351</td>\n",
       "    </tr>\n",
       "    <tr>\n",
       "      <th>1</th>\n",
       "      <td>1</td>\n",
       "      <td>20</td>\n",
       "      <td>0.745101</td>\n",
       "    </tr>\n",
       "    <tr>\n",
       "      <th>0</th>\n",
       "      <td>1</td>\n",
       "      <td>10</td>\n",
       "      <td>0.743983</td>\n",
       "    </tr>\n",
       "    <tr>\n",
       "      <th>20</th>\n",
       "      <td>3</td>\n",
       "      <td>10</td>\n",
       "      <td>0.743837</td>\n",
       "    </tr>\n",
       "    <tr>\n",
       "      <th>40</th>\n",
       "      <td>5</td>\n",
       "      <td>10</td>\n",
       "      <td>0.743262</td>\n",
       "    </tr>\n",
       "  </tbody>\n",
       "</table>\n",
       "<p>120 rows × 3 columns</p>\n",
       "</div>"
      ],
      "text/plain": [
       "    min_samples_leaf  n_estimators       auc\n",
       "39                 3           200  0.754475\n",
       "71                10           120  0.754421\n",
       "70                10           110  0.754358\n",
       "72                10           130  0.754279\n",
       "38                 3           190  0.754274\n",
       "..               ...           ...       ...\n",
       "60                10            10  0.745351\n",
       "1                  1            20  0.745101\n",
       "0                  1            10  0.743983\n",
       "20                 3            10  0.743837\n",
       "40                 5            10  0.743262\n",
       "\n",
       "[120 rows x 3 columns]"
      ]
     },
     "execution_count": 59,
     "metadata": {},
     "output_type": "execute_result"
    }
   ],
   "source": [
    "columns =  ['min_samples_leaf', 'n_estimators','auc']\n",
    "df_scores = pd.DataFrame(scores, columns =columns)\n",
    "df_scores.sort_values(by='auc', ascending=False)"
   ]
  },
  {
   "cell_type": "code",
   "execution_count": 53,
   "id": "3ea3f563",
   "metadata": {
    "scrolled": true
   },
   "outputs": [
    {
     "data": {
      "text/plain": [
       "<matplotlib.legend.Legend at 0x21583691f70>"
      ]
     },
     "execution_count": 53,
     "metadata": {},
     "output_type": "execute_result"
    },
    {
     "data": {
      "image/png": "[encoded data removed]",
      "text/plain": [
       "<Figure size 432x288 with 1 Axes>"
      ]
     },
     "metadata": {
      "needs_background": "light"
     },
     "output_type": "display_data"
    }
   ],
   "source": [
    "colors = ['black', 'blue', 'orange', 'red', 'grey', 'green']\n",
    "min_samples_leaf_values = [1,3,5,10,15,50]\n",
    "\n",
    "for s, col in zip(min_samples_leaf_values, colors):\n",
    "    df_subset = df_scores[df_scores.min_samples_leaf ==s]\n",
    "    plt.plot(df_subset.n_estimators,\n",
    "             df_subset.auc,\n",
    "             color = col,\n",
    "             label = 'min_samples_leaf = %d' % s)\n",
    "plt.legend()"
   ]
  },
  {
   "cell_type": "code",
   "execution_count": 63,
   "id": "e78bb90e",
   "metadata": {},
   "outputs": [
    {
     "data": {
      "text/plain": [
       "0.717496140305993"
      ]
     },
     "execution_count": 63,
     "metadata": {},
     "output_type": "execute_result"
    }
   ],
   "source": [
    " rf = RandomForestClassifier(n_estimators=200,\n",
    "                                    max_depth = 3,min_samples_leaf=3,\n",
    "                                    random_state =2022)\n",
    "rf.fit(X_train,y_train)\n",
    "\n",
    "y_pred = rf.predict_proba(X_val)[:,1]\n",
    "roc_auc_score(y_val, y_pred)"
   ]
  },
  {
   "cell_type": "code",
   "execution_count": null,
   "id": "37c8556d",
   "metadata": {},
   "outputs": [],
   "source": []
  },
  {
   "cell_type": "code",
   "execution_count": null,
   "id": "5ae5adce",
   "metadata": {},
   "outputs": [],
   "source": []
  },
  {
   "cell_type": "code",
   "execution_count": null,
   "id": "502f71aa",
   "metadata": {},
   "outputs": [],
   "source": []
  },
  {
   "cell_type": "code",
   "execution_count": null,
   "id": "c4080d30",
   "metadata": {},
   "outputs": [],
   "source": [
    "# watchlist = [(dtrain, 'train'), (dval, 'val')]\n",
    "\n",
    "# xgb_params = {\n",
    "#     'eta': 0.3,\n",
    "#     'max_depth': 3,\n",
    "#     'min_child_weight': 1,\n",
    "    \n",
    "#     'objective': 'binary:logistic',\n",
    "#     'eval_metric': 'auc',\n",
    "#     'nthread': 8,\n",
    "#     'seed': 1,\n",
    "#     'silent': 1,\n",
    "#     'verbosity':1,\n",
    "# }\n",
    "\n",
    "# model = xgb.train(xgb_params, dtrain,num_boost_round=200,evals=watchlist,verbose_eval=10)"
   ]
  },
  {
   "cell_type": "code",
   "execution_count": null,
   "id": "5f9e0ecb",
   "metadata": {},
   "outputs": [],
   "source": [
    "# df_test"
   ]
  },
  {
   "cell_type": "code",
   "execution_count": null,
   "id": "b88e3757",
   "metadata": {},
   "outputs": [],
   "source": [
    "# df_test.columns"
   ]
  },
  {
   "cell_type": "code",
   "execution_count": null,
   "id": "c95a5ec1",
   "metadata": {},
   "outputs": [],
   "source": []
  }
 ],
 "metadata": {
  "kernelspec": {
   "display_name": "Python 3 (ipykernel)",
   "language": "python",
   "name": "python3"
  },
  "language_info": {
   "codemirror_mode": {
    "name": "ipython",
    "version": 3
   },
   "file_extension": ".py",
   "mimetype": "text/x-python",
   "name": "python",
   "nbconvert_exporter": "python",
   "pygments_lexer": "ipython3",
   "version": "3.9.7"
  }
 },
 "nbformat": 4,
 "nbformat_minor": 5
}
